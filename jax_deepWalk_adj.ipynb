{
 "cells": [
  {
   "cell_type": "code",
   "execution_count": 11,
   "id": "10b307a7",
   "metadata": {},
   "outputs": [],
   "source": [
    "# Imports\n",
    "%matplotlib inline\n",
    "import functools\n",
    "import matplotlib.pyplot as plt\n",
    "import jax\n",
    "import jax.numpy as jnp\n",
    "from jax import jit\n",
    "import optax\n",
    "import numpy as np\n",
    "from os import path\n",
    "from matplotlib import pyplot as plt\n",
    "import torch\n",
    "from jax import random as jrandom\n",
    "from functools import partial\n",
    "from jax import value_and_grad\n",
    "from tqdm import tqdm\n",
    "\n",
    "data_loc = 'C:/Users/arthu/OneDrive/CentraleSupelec/3A/Cours/Graphical Model/deepwalk-node2vec-comparison/BlogCatalog3/BlogCatalog-dataset/data/'\n"
   ]
  },
  {
   "cell_type": "markdown",
   "id": "442f72e4",
   "metadata": {},
   "source": [
    "## Load Data"
   ]
  },
  {
   "cell_type": "code",
   "execution_count": 12,
   "id": "07063a4c",
   "metadata": {},
   "outputs": [
    {
     "name": "stderr",
     "output_type": "stream",
     "text": [
      "100%|██████████| 333983/333983 [00:00<00:00, 341696.27it/s]\n"
     ]
    }
   ],
   "source": [
    "def load_data():\n",
    "    with open(data_loc+'nodes.csv', 'r') as f:\n",
    "        num_nodes = sum(1 for _ in f)\n",
    "    with open(data_loc+'edges.csv', 'r') as f:\n",
    "        num_edges = sum(1 for _ in f)\n",
    "    \n",
    "    adjacent_matrix = np.zeros((num_nodes,num_nodes))\n",
    "    num_neighbors = np.zeros(num_nodes)\n",
    "    with open(data_loc+'edges.csv', 'r') as f:\n",
    "        for line in tqdm(f.readlines(),total=num_edges):\n",
    "            i, j = line.strip().split(',')  # csv\n",
    "            i,j = int(i) - 1,int(j) - 1\n",
    "            adjacent_matrix[i,j] = num_neighbors[i] + 1\n",
    "            adjacent_matrix[j,i] = num_neighbors[j] + 1\n",
    "\n",
    "            num_neighbors[i] += 1\n",
    "            num_neighbors[j] += 1\n",
    "    adjacent_matrix = jnp.array(adjacent_matrix)\n",
    "    return adjacent_matrix\n",
    "adjacent_matrix = load_data()"
   ]
  },
  {
   "cell_type": "markdown",
   "id": "2746511e",
   "metadata": {},
   "source": [
    "## Visualizing the Graph\n",
    "To visualize the graph structure of the graph we created above, we will use the [`networkx`](networkx.org) library because it already has functions for drawing graphs.\n",
    "\n",
    "We first convert the `jraph.GraphsTuple` to a `networkx.DiGraph`."
   ]
  },
  {
   "cell_type": "code",
   "execution_count": 13,
   "id": "13deacf0",
   "metadata": {},
   "outputs": [],
   "source": [
    "#The graph is too big to be displayed\n",
    "#draw_jraph_graph_structure(bc_dataset)"
   ]
  },
  {
   "cell_type": "code",
   "execution_count": 14,
   "id": "867485e5",
   "metadata": {},
   "outputs": [],
   "source": [
    "rng_key = jrandom.key(1)\n",
    "\n",
    "@jit\n",
    "def get_next_node(params,_):\n",
    "    current_node,rng_key,adjacent_matrix = params\n",
    "    neighbors_mask = adjacent_matrix[current_node]\n",
    "    n_neighbors = (jax.lax.sqrt(jnp.sum(neighbors_mask + 1)) - 1) / 2\n",
    "    rng_key, subkey = jrandom.split(rng_key)\n",
    "    next_neighbor_index = jrandom.randint(subkey, [1],0,n_neighbors)\n",
    "    next_node = jnp.argwhere(neighbors_mask == next_neighbor_index,size=1)[0][0]\n",
    "    return (next_node,subkey,adjacent_matrix),next_node\n"
   ]
  },
  {
   "cell_type": "code",
   "execution_count": 15,
   "id": "8e4eddad",
   "metadata": {},
   "outputs": [
    {
     "data": {
      "text/plain": [
       "Array(2770, dtype=int32)"
      ]
     },
     "execution_count": 15,
     "metadata": {},
     "output_type": "execute_result"
    }
   ],
   "source": [
    "get_next_node(params=(0,rng_key,adjacent_matrix),_=None)[1]"
   ]
  },
  {
   "cell_type": "code",
   "execution_count": 16,
   "id": "306b0712",
   "metadata": {},
   "outputs": [],
   "source": [
    "@partial(jit,static_argnames=['walk_length'])\n",
    "def get_walk(initial_node,walk_length,rng_key,adjacent_matrix):\n",
    "    walk = jax.lax.scan(f=get_next_node,init=(initial_node,rng_key,adjacent_matrix),xs=None,length=walk_length)[1]\n",
    "    return walk"
   ]
  },
  {
   "cell_type": "code",
   "execution_count": 17,
   "id": "237fa850",
   "metadata": {},
   "outputs": [
    {
     "data": {
      "text/plain": [
       "Array([2770, 1110,    0, 5333, 4146], dtype=int32)"
      ]
     },
     "execution_count": 17,
     "metadata": {},
     "output_type": "execute_result"
    }
   ],
   "source": [
    "get_walk(0,5,rng_key,adjacent_matrix)"
   ]
  },
  {
   "cell_type": "code",
   "execution_count": 18,
   "id": "82ae8b31",
   "metadata": {},
   "outputs": [],
   "source": [
    "@partial(jit,static_argnames=['num_walks','walk_length'])\n",
    "def gen_random_walk_tensor(initial_node,num_walks, walk_length,rng_key,adjacent_matrix ):\n",
    "    walk_list = jnp.zeros((num_walks,walk_length),dtype=jnp.int32)\n",
    "    for i in range(num_walks):\n",
    "        rng_key,_ = jrandom.split(rng_key)\n",
    "        walk_list = walk_list.at[i].set(get_walk(initial_node=initial_node,walk_length=walk_length,rng_key=rng_key,adjacent_matrix=adjacent_matrix))\n",
    "    return walk_list"
   ]
  },
  {
   "cell_type": "code",
   "execution_count": 19,
   "id": "57ec5c0e",
   "metadata": {},
   "outputs": [
    {
     "name": "stdout",
     "output_type": "stream",
     "text": [
      "[[2520  968 2596 3003 4297 3935 1644  418 3317 1451]\n",
      " [1262    0 2460 3055  309    0  752 1159 3124 2155]\n",
      " [ 282 1488 1586  637 2149   25 1886  666  294 1225]\n",
      " [3560 2452 2799 3322  305 3851 2336 3851 1856  569]\n",
      " [ 584  738 2384 2420  866  808 1100 1225 3127  858]\n",
      " [ 644  813 3322 2927 1386 3418 3239 2451  857 1932]\n",
      " [4838  581 3560  651 2562 5581 1800 1273 1120    0]\n",
      " [5203 2326 1702 1680  110    0 5310 6323 5624 1473]\n",
      " [ 370 4373  985 1931  425 4255 2442  177    0 5333]\n",
      " [4835 3251    0 3338  409 3607 1437  445 2339  127]]\n"
     ]
    }
   ],
   "source": [
    "random_walks = gen_random_walk_tensor(0,10,10,rng_key,adjacent_matrix)\n",
    "print(random_walks)"
   ]
  },
  {
   "cell_type": "code",
   "execution_count": 20,
   "id": "a4d98d1a",
   "metadata": {},
   "outputs": [
    {
     "name": "stdout",
     "output_type": "stream",
     "text": [
      "(80, 3)\n"
     ]
    }
   ],
   "source": [
    "@partial(jit,static_argnames=['window_size','num_walks','walk_length'])\n",
    "def generate_windows(random_walks,window_size,num_walks,walk_length):\n",
    "    num_windows = walk_length + 1 - window_size\n",
    "    windows = jnp.zeros((num_walks * num_windows, window_size), dtype=jnp.int32)\n",
    "    for j in range(num_windows):\n",
    "        windows = windows.at[num_walks * j:num_walks * (j + 1)].set(random_walks[:, j:j + window_size])\n",
    "    return windows\n",
    "\n",
    "windows = generate_windows(random_walks, 3,10,10)\n",
    "print(windows.shape)"
   ]
  },
  {
   "cell_type": "code",
   "execution_count": 21,
   "id": "39e0c029",
   "metadata": {},
   "outputs": [
    {
     "data": {
      "text/plain": [
       "Array([[-1.37977467e+01, -2.85341167e+01],\n",
       "       [-6.18821239e+00,  7.70775938e+00],\n",
       "       [-9.64875507e+00,  1.55383568e+01],\n",
       "       [ 9.40449810e+00,  1.19765043e+01],\n",
       "       [ 1.07187233e+01, -1.41470375e+01],\n",
       "       [-2.41891346e+01,  2.50357399e+01],\n",
       "       [-6.48633862e+00, -2.54224358e+01],\n",
       "       [ 3.90500412e+01,  1.35591278e+01],\n",
       "       [-9.41652489e+00, -5.67467213e-02],\n",
       "       [-2.20587254e+00,  2.82458382e+01],\n",
       "       [ 4.07399321e+00,  1.35076714e+01],\n",
       "       [-2.63694935e+01, -2.19778252e+01],\n",
       "       [ 1.33413086e+01,  1.46388206e+01],\n",
       "       [ 1.26078262e+01, -1.87169228e+01],\n",
       "       [ 1.39328594e+01,  4.81882572e+00],\n",
       "       [ 4.52557468e+00, -5.49393749e+00],\n",
       "       [-4.09537029e+00, -1.66300621e+01],\n",
       "       [ 5.59790611e+01, -1.63674603e+01],\n",
       "       [ 1.19582491e+01, -9.06642914e-01],\n",
       "       [ 7.78726387e+00, -1.95134163e-01],\n",
       "       [-2.03491998e+00, -1.70777645e+01],\n",
       "       [ 3.18227673e+01,  2.15255032e+01],\n",
       "       [ 8.85899830e+00, -4.25069475e+00],\n",
       "       [-1.91722908e+01, -2.79438972e-01],\n",
       "       [ 2.52116699e+01, -5.45359468e+00],\n",
       "       [-7.25336552e+00, -3.18815994e+00],\n",
       "       [ 2.52410221e+00, -1.90447083e+01],\n",
       "       [ 1.50339699e+01,  2.77249088e+01],\n",
       "       [-9.35623932e+00, -4.92073441e+00],\n",
       "       [-2.05909634e+01, -2.55548477e+01],\n",
       "       [ 1.74659634e+01, -2.31697369e+00],\n",
       "       [ 3.59687958e+01, -2.19778252e+01],\n",
       "       [ 9.20241356e-01, -2.25406551e+01],\n",
       "       [-2.27309570e+01, -3.32589817e+00],\n",
       "       [ 8.31669807e+00,  3.05575609e+00],\n",
       "       [ 1.36031303e+01, -3.27481499e+01],\n",
       "       [-7.15996599e+00,  4.99609613e+00],\n",
       "       [ 6.79862022e+00,  1.05163503e+00],\n",
       "       [ 1.72197189e+01,  1.84325027e+00],\n",
       "       [-1.29592505e+01, -3.29010658e+01],\n",
       "       [-1.25405741e+00,  3.87319946e+01],\n",
       "       [ 1.75564117e+01,  4.88309555e+01],\n",
       "       [ 2.64762611e+01,  1.03318558e+01],\n",
       "       [ 2.42755527e+01, -1.64129009e+01],\n",
       "       [-1.75159836e+00, -9.74920654e+00],\n",
       "       [-7.93470001e+00, -2.33170280e+01],\n",
       "       [-1.74867992e+01, -1.20753231e+01],\n",
       "       [ 2.82182350e+01, -7.47303438e+00],\n",
       "       [ 2.45193100e+01,  1.26995687e+01],\n",
       "       [-2.32236900e+01,  3.06801262e+01],\n",
       "       [-3.50386505e+01,  3.20876122e-01],\n",
       "       [-1.27622433e+01,  5.54655981e+00],\n",
       "       [-4.43380833e+00, -1.28788185e+00],\n",
       "       [-1.73567085e+01,  3.21026123e+02],\n",
       "       [-1.53441048e+01, -2.89365826e+01],\n",
       "       [ 1.91756191e+01, -2.92847137e+01],\n",
       "       [ 5.83535576e+00,  1.67657547e+01],\n",
       "       [ 2.61525650e+01,  1.25093985e+00],\n",
       "       [ 5.87846661e+00, -1.38097963e+01],\n",
       "       [-1.43813066e+01,  3.95378418e+01],\n",
       "       [-2.80090189e+00, -5.36314106e+00],\n",
       "       [-2.39589787e+01,  1.02509842e+01],\n",
       "       [-3.71438789e+01, -3.50697517e+00],\n",
       "       [-1.73567085e+01, -8.86649323e+00],\n",
       "       [-1.09756346e+01, -1.25248432e+01],\n",
       "       [-4.35373383e+01,  1.72795200e+01],\n",
       "       [ 1.69819546e+01,  2.78906536e+01],\n",
       "       [-2.23795938e+00, -2.61112328e+01],\n",
       "       [-1.77948837e+01, -1.93643494e+01],\n",
       "       [-8.03166962e+00, -2.75238018e+01],\n",
       "       [-1.38082552e+01, -1.31427784e+01],\n",
       "       [-2.53740177e+01, -2.34047012e+01],\n",
       "       [ 3.70342135e+00, -2.95003080e+00],\n",
       "       [-2.54659691e+01,  1.78889751e-01],\n",
       "       [-3.82407761e+01, -1.80064621e+01],\n",
       "       [ 2.17896900e+01, -1.49072313e+01],\n",
       "       [ 1.24210091e+01,  2.19319954e+01],\n",
       "       [ 3.10043354e+01,  1.87573662e+01],\n",
       "       [ 6.35019207e+00, -2.14379845e+01],\n",
       "       [-6.48088408e+00,  9.06770420e+00]], dtype=float32)"
      ]
     },
     "execution_count": 21,
     "metadata": {},
     "output_type": "execute_result"
    }
   ],
   "source": [
    "@jit\n",
    "def get_windows_dotproduct(windows, embedding):\n",
    "    embedding_size = embedding.shape[1]\n",
    "    # get the embedding of the initial node repeated num_windows times\n",
    "    first_emb = embedding[windows[:, 0]]\n",
    "    first_emb = jnp.expand_dims(first_emb, axis=1)  # Ajouter une nouvelle dimension\n",
    "    # get the embedding of the remaining nodes in each window\n",
    "    others_emb = embedding[windows[:, 1:]]\n",
    "    others_emb = others_emb.reshape(windows.shape[0], -1, embedding_size)\n",
    "    # result has same shape as others\n",
    "    # Each element is the dot product between the corresponding node embedding\n",
    "    # and the embedding of the first node of that walk\n",
    "    # that is, result_{i, j} for random walk i and element j is v_{W_{i, 0}} dot v_{W_{i, j}}\n",
    "    result = jnp.sum(first_emb * others_emb, axis=-1)\n",
    "    return result\n",
    "\n",
    "vg_get_windows_dotproduct = value_and_grad(get_windows_dotproduct,argnums=1)\n",
    "\n",
    "embedding_jax = jax.random.normal(rng_key, shape=(12000, 300))\n",
    "get_windows_dotproduct(windows, embedding_jax)"
   ]
  },
  {
   "cell_type": "code",
   "execution_count": 22,
   "id": "1cb5b8d0",
   "metadata": {},
   "outputs": [],
   "source": [
    "@jit\n",
    "def compute_mean_log_sigmoid(windows, embedding):\n",
    "    dot_product = get_windows_dotproduct(windows, embedding)\n",
    "    sigmoid_output = 1 / (1 + jnp.exp(-dot_product))  # Sigmoid function\n",
    "    log_sigmoid_output = jnp.log(sigmoid_output)  # Logarithm\n",
    "    return jnp.mean(log_sigmoid_output)  # Mean\n",
    "\n",
    "# Usage example:\n",
    "mean_log_sigmoid = compute_mean_log_sigmoid(windows, embedding_jax)"
   ]
  },
  {
   "cell_type": "code",
   "execution_count": 23,
   "id": "72c69545",
   "metadata": {},
   "outputs": [
    {
     "data": {
      "text/plain": [
       "(Array([[   0,   80, 1554,  832,  799],\n",
       "        [   0,  670, 1990,  305, 1162],\n",
       "        [   0,  479,  644,  798,  695]], dtype=int32),\n",
       " Array((), dtype=key<fry>) overlaying:\n",
       " [2441914641 1384938218])"
      ]
     },
     "execution_count": 23,
     "metadata": {},
     "output_type": "execute_result"
    }
   ],
   "source": [
    "def gen_negative_samples(amount, length, initial_node, number_of_nodes,rng_key):\n",
    "  \"\"\"Generates negative samples for a random walk process in JAX.\n",
    "\n",
    "  Args:\n",
    "    amount: Number of negative samples to generate.\n",
    "    length: Length of each negative sample walk (number of nodes in the path).\n",
    "    initial_node: Starting node for all negative samples.\n",
    "    number_of_nodes: Total number of nodes in the graph.\n",
    "\n",
    "  Returns:\n",
    "    A JAX array of shape (amount, length) containing the negative samples.\n",
    "  \"\"\"\n",
    "  negative_samples = jnp.zeros((amount, length), dtype=jnp.int32)  # Use jnp.int32 for node indices\n",
    "  negative_samples = negative_samples.at[:, 0].set(initial_node)  # Set initial node efficiently\n",
    "  rng_key, subkey = jrandom.split(rng_key)\n",
    "  negative_samples = negative_samples.at[:, 1:].set(\n",
    "      jrandom.randint(rng_key,shape=(amount, length - 1),minval = 0, maxval = number_of_nodes)\n",
    "  )\n",
    "  return negative_samples, rng_key\n",
    "\n",
    "gen_negative_samples(amount=3, length=5, initial_node=0, number_of_nodes=2000,rng_key =rng_key)"
   ]
  },
  {
   "cell_type": "code",
   "execution_count": 24,
   "id": "bb3aa121",
   "metadata": {},
   "outputs": [],
   "source": [
    "import jax\n",
    "import jax.numpy as jnp\n",
    "from jax import random\n",
    "import optax\n",
    "from tqdm import tqdm\n",
    "\n",
    "\n",
    "### TO FIX\n",
    "\n",
    "def deepWalk(adjacent_matrix, walks_per_vertex, walk_length, window_size, embedding_size, num_neg, lr, epochs,rng_key ,eps = 1e-15):\n",
    "    \n",
    "    number_of_nodes = adjacent_matrix.shape[0]\n",
    "    \n",
    "    embedding = jax.random.normal(rng_key, shape=(number_of_nodes, embedding_size))\n",
    "    optimizer = optax.sgd(learning_rate=lr)\n",
    "    opt_state = optimizer.init(embedding)\n",
    "    loss_history = {'pos': [], 'neg': [], 'total': []}\n",
    "\n",
    "    def loss_fn(embedding, random_walks,negative_samples,num_walks, window_size, eps = 1e-8):\n",
    "        windows = generate_windows(random_walks,window_size,num_walks,walk_length)\n",
    "        dotproduct_positive = get_windows_dotproduct(windows, embedding)\n",
    "        windows = generate_windows(negative_samples,window_size,num_neg,walk_length)\n",
    "        dotproduct_negative = get_windows_dotproduct(windows, embedding)\n",
    "        pos_loss = -jnp.log(jax.nn.sigmoid(dotproduct_positive) + eps).mean()\n",
    "        neg_loss = -jnp.log(1 - jax.nn.sigmoid(dotproduct_negative) + eps).mean()\n",
    "        return pos_loss + neg_loss\n",
    "\n",
    "    grad_fn = jax.value_and_grad(loss_fn)\n",
    "    \n",
    "    def update(params, opt_state, random_walks,negative_samples ):\n",
    "        loss, grads = grad_fn(params, random_walks,negative_samples, walks_per_vertex,window_size)\n",
    "        updates, opt_state = optimizer.update(grads, opt_state)\n",
    "        new_params = optax.apply_updates(params, updates)\n",
    "        return new_params, opt_state, loss\n",
    "\n",
    "    for _ in range(epochs):\n",
    "        nodes = np.arange(0,number_of_nodes)\n",
    "        for n in tqdm(nodes):\n",
    "            random_walks = gen_random_walk_tensor(n,walks_per_vertex,walk_length,rng_key,adjacent_matrix)\n",
    "            negative_samples , rng_key = gen_negative_samples(\n",
    "                num_neg,\n",
    "                length=walk_length, \n",
    "                initial_node=n, \n",
    "                number_of_nodes=number_of_nodes,\n",
    "                rng_key = rng_key\n",
    "            )\n",
    "\n",
    "            embedding, opt_state, loss = update(embedding, opt_state, random_walks,negative_samples)\n",
    "            loss_history['total'].append(loss)\n",
    "\n",
    "    return embedding, loss_history\n"
   ]
  },
  {
   "cell_type": "code",
   "execution_count": 25,
   "id": "d6d17aa8",
   "metadata": {},
   "outputs": [
    {
     "name": "stderr",
     "output_type": "stream",
     "text": [
      "  4%|▎         | 378/10312 [00:16<07:24, 22.34it/s] \n"
     ]
    },
    {
     "ename": "KeyboardInterrupt",
     "evalue": "",
     "output_type": "error",
     "traceback": [
      "\u001b[1;31m---------------------------------------------------------------------------\u001b[0m",
      "\u001b[1;31mKeyboardInterrupt\u001b[0m                         Traceback (most recent call last)",
      "Cell \u001b[1;32mIn[25], line 1\u001b[0m\n\u001b[1;32m----> 1\u001b[0m \u001b[43mdeepWalk\u001b[49m\u001b[43m(\u001b[49m\u001b[43madjacent_matrix\u001b[49m\u001b[43m,\u001b[49m\u001b[43m \u001b[49m\u001b[38;5;241;43m5\u001b[39;49m\u001b[43m,\u001b[49m\u001b[43m \u001b[49m\u001b[38;5;241;43m5\u001b[39;49m\u001b[43m,\u001b[49m\u001b[43m \u001b[49m\u001b[38;5;241;43m5\u001b[39;49m\u001b[43m,\u001b[49m\u001b[43m \u001b[49m\u001b[38;5;241;43m128\u001b[39;49m\u001b[43m,\u001b[49m\u001b[43m \u001b[49m\u001b[38;5;241;43m2\u001b[39;49m\u001b[43m,\u001b[49m\u001b[43m \u001b[49m\u001b[38;5;241;43m1e-5\u001b[39;49m\u001b[43m,\u001b[49m\u001b[43m \u001b[49m\u001b[38;5;241;43m1\u001b[39;49m\u001b[43m,\u001b[49m\u001b[43mrng_key\u001b[49m\u001b[43m \u001b[49m\u001b[43m,\u001b[49m\u001b[43meps\u001b[49m\u001b[43m \u001b[49m\u001b[38;5;241;43m=\u001b[39;49m\u001b[43m \u001b[49m\u001b[38;5;241;43m1e-15\u001b[39;49m\u001b[43m)\u001b[49m\n",
      "Cell \u001b[1;32mIn[24], line 39\u001b[0m, in \u001b[0;36mdeepWalk\u001b[1;34m(adjacent_matrix, walks_per_vertex, walk_length, window_size, embedding_size, num_neg, lr, epochs, rng_key, eps)\u001b[0m\n\u001b[0;32m     37\u001b[0m nodes \u001b[38;5;241m=\u001b[39m np\u001b[38;5;241m.\u001b[39marange(\u001b[38;5;241m0\u001b[39m,number_of_nodes)\n\u001b[0;32m     38\u001b[0m \u001b[38;5;28;01mfor\u001b[39;00m n \u001b[38;5;129;01min\u001b[39;00m tqdm(nodes):\n\u001b[1;32m---> 39\u001b[0m     random_walks \u001b[38;5;241m=\u001b[39m \u001b[43mgen_random_walk_tensor\u001b[49m\u001b[43m(\u001b[49m\u001b[43mn\u001b[49m\u001b[43m,\u001b[49m\u001b[43mwalks_per_vertex\u001b[49m\u001b[43m,\u001b[49m\u001b[43mwalk_length\u001b[49m\u001b[43m,\u001b[49m\u001b[43mrng_key\u001b[49m\u001b[43m,\u001b[49m\u001b[43madjacent_matrix\u001b[49m\u001b[43m)\u001b[49m\n\u001b[0;32m     40\u001b[0m     negative_samples , rng_key \u001b[38;5;241m=\u001b[39m gen_negative_samples(\n\u001b[0;32m     41\u001b[0m         num_neg,\n\u001b[0;32m     42\u001b[0m         length\u001b[38;5;241m=\u001b[39mwalk_length, \n\u001b[1;32m   (...)\u001b[0m\n\u001b[0;32m     45\u001b[0m         rng_key \u001b[38;5;241m=\u001b[39m rng_key\n\u001b[0;32m     46\u001b[0m     )\n\u001b[0;32m     48\u001b[0m     embedding, opt_state, loss \u001b[38;5;241m=\u001b[39m update(embedding, opt_state, random_walks,negative_samples)\n",
      "\u001b[1;31mKeyboardInterrupt\u001b[0m: "
     ]
    }
   ],
   "source": [
    "deepWalk(adjacent_matrix, 5, 5, 5, 128, 2, 1e-5, 1,rng_key ,eps = 1e-15)"
   ]
  },
  {
   "cell_type": "code",
   "execution_count": null,
   "id": "584b2bef",
   "metadata": {},
   "outputs": [
    {
     "ename": "NameError",
     "evalue": "name 'loss_history' is not defined",
     "output_type": "error",
     "traceback": [
      "\u001b[1;31m---------------------------------------------------------------------------\u001b[0m",
      "\u001b[1;31mNameError\u001b[0m                                 Traceback (most recent call last)",
      "Cell \u001b[1;32mIn[16], line 1\u001b[0m\n\u001b[1;32m----> 1\u001b[0m cumsum_vec \u001b[38;5;241m=\u001b[39m np\u001b[38;5;241m.\u001b[39mcumsum(np\u001b[38;5;241m.\u001b[39minsert(\u001b[43mloss_history\u001b[49m[\u001b[38;5;124m'\u001b[39m\u001b[38;5;124mtotal\u001b[39m\u001b[38;5;124m'\u001b[39m], \u001b[38;5;241m0\u001b[39m, \u001b[38;5;241m0\u001b[39m)) \n\u001b[0;32m      2\u001b[0m window_width \u001b[38;5;241m=\u001b[39m \u001b[38;5;241m10\u001b[39m\n\u001b[0;32m      3\u001b[0m ma_vec \u001b[38;5;241m=\u001b[39m (cumsum_vec[window_width:] \u001b[38;5;241m-\u001b[39m cumsum_vec[:\u001b[38;5;241m-\u001b[39mwindow_width]) \u001b[38;5;241m/\u001b[39m window_width\n",
      "\u001b[1;31mNameError\u001b[0m: name 'loss_history' is not defined"
     ]
    }
   ],
   "source": [
    "cumsum_vec = np.cumsum(np.insert(loss_history['total'], 0, 0)) \n",
    "window_width = 10\n",
    "ma_vec = (cumsum_vec[window_width:] - cumsum_vec[:-window_width]) / window_width\n",
    "plt.plot(ma_vec)"
   ]
  },
  {
   "cell_type": "code",
   "execution_count": null,
   "id": "c223f9a2",
   "metadata": {},
   "outputs": [],
   "source": [
    "embedding"
   ]
  },
  {
   "cell_type": "code",
   "execution_count": null,
   "id": "f92f12ef",
   "metadata": {},
   "outputs": [],
   "source": [
    "X_norm = (X-X.mean(axis=0)) / X.std(axis=0)"
   ]
  },
  {
   "cell_type": "code",
   "execution_count": null,
   "id": "b2255e93",
   "metadata": {},
   "outputs": [],
   "source": [
    "from sklearn.metrics import f1_score\n",
    "from sklearn.linear_model import LogisticRegression\n",
    "\n",
    "X = embedding.detach().numpy()\n",
    "y = bc_dataset['labels']\n",
    "\n",
    "clf = LogisticRegression(random_state=0, multi_class='ovr').fit(X_norm, y)\n",
    "y_hat = clf.predict(X_norm)\n",
    "f1_score(y, y_hat, average='micro')"
   ]
  },
  {
   "cell_type": "code",
   "execution_count": null,
   "id": "f0cffcc8",
   "metadata": {},
   "outputs": [],
   "source": [
    "from sklearn.decomposition import PCA\n",
    "pca = PCA(n_components=2)\n",
    "X_t = pca.fit_transform(X)\n"
   ]
  },
  {
   "cell_type": "code",
   "execution_count": null,
   "id": "c0c6ed44",
   "metadata": {},
   "outputs": [],
   "source": [
    "plt.scatter(X_t[:, 0], X_t[:, 1], c=y)"
   ]
  },
  {
   "cell_type": "code",
   "execution_count": null,
   "id": "6c47f4a7",
   "metadata": {},
   "outputs": [],
   "source": []
  },
  {
   "cell_type": "code",
   "execution_count": null,
   "id": "ad6d2de7",
   "metadata": {},
   "outputs": [],
   "source": []
  },
  {
   "cell_type": "code",
   "execution_count": null,
   "id": "e48aa350",
   "metadata": {},
   "outputs": [],
   "source": []
  },
  {
   "cell_type": "code",
   "execution_count": null,
   "id": "209f592f",
   "metadata": {},
   "outputs": [],
   "source": []
  },
  {
   "cell_type": "code",
   "execution_count": null,
   "id": "59d1ee1d",
   "metadata": {},
   "outputs": [],
   "source": []
  }
 ],
 "metadata": {
  "kernelspec": {
   "display_name": "jax_env",
   "language": "python",
   "name": "python3"
  },
  "language_info": {
   "codemirror_mode": {
    "name": "ipython",
    "version": 3
   },
   "file_extension": ".py",
   "mimetype": "text/x-python",
   "name": "python",
   "nbconvert_exporter": "python",
   "pygments_lexer": "ipython3",
   "version": "3.11.5"
  }
 },
 "nbformat": 4,
 "nbformat_minor": 5
}
