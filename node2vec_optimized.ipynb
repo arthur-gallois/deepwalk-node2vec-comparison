{
 "cells": [
  {
   "cell_type": "code",
   "execution_count": 1,
   "id": "10b307a7",
   "metadata": {},
   "outputs": [],
   "source": [
    "import networkx as nx\n",
    "import numpy as np\n",
    "import pickle as p\n",
    "from os import path\n",
    "from scipy.sparse import csr_matrix, lil_matrix\n",
    "from matplotlib import pyplot as plt\n",
    "%matplotlib inline\n",
    "import torch\n",
    "from node_embeddings.biaised_random_walk import *\n",
    "from node_embeddings.random_walk import generate_windows, gen_batch_random_walk, get_windows_dotproduct,gen_negative_samples, gen_batch_negative_samples \n",
    "from node_embeddings.model import generate_batches, node2vec\n",
    "\n",
    "data_loc = 'C:/Users/alex_/Fac/M2/M2/S2/Discrete_Graphs/Projet/Data/BlogCatalog3/BlogCatalog-dataset/data/'"
   ]
  },
  {
   "cell_type": "markdown",
   "id": "ba68a41f",
   "metadata": {},
   "source": [
    "## Load Data"
   ]
  },
  {
   "cell_type": "code",
   "execution_count": 2,
   "id": "07063a4c",
   "metadata": {},
   "outputs": [
    {
     "name": "stdout",
     "output_type": "stream",
     "text": [
      "Number of nodes:  10312\n",
      "Number of edges:  333983\n"
     ]
    }
   ],
   "source": [
    "def load_data():\n",
    "    iid = {}\n",
    "    idx = 0\n",
    "    edgelist = []\n",
    "\n",
    "    # Read edges pairs\n",
    "    with open(data_loc+'edges.csv', 'r') as f:\n",
    "        for line in f.readlines():\n",
    "            i, j = line.strip().split(',')  # csv\n",
    "            if i not in iid:\n",
    "                iid[i] = idx; idx += 1\n",
    "            if j not in iid:\n",
    "                iid[j] = idx; idx += 1\n",
    "            edgelist.append((iid[i], iid[j]))\n",
    "\n",
    "    # Create an nx undirected network\n",
    "    bc = nx.Graph(edgelist)\n",
    "\n",
    "    print(\"Number of nodes: \", len(bc))\n",
    "    print(\"Number of edges: \", bc.size())\n",
    "\n",
    "    # Read labels\n",
    "    labels = np.zeros((len(bc)), dtype=int)\n",
    "    # Read (node_id, label) file\n",
    "    with open(data_loc+'group-edges.csv', 'r') as f:\n",
    "        for line in f.readlines():\n",
    "            node, group = line.strip().split(',') \n",
    "            labels[iid[node]] = int(group)-1  \n",
    "\n",
    "    bc_dataset = {'graph': bc, 'labels': labels}\n",
    "    return bc_dataset\n",
    "\n",
    "bc_dataset = load_data()"
   ]
  },
  {
   "cell_type": "code",
   "execution_count": 3,
   "id": "38f0c9bd",
   "metadata": {},
   "outputs": [
    {
     "name": "stderr",
     "output_type": "stream",
     "text": [
      "  8%|▊         | 17/206 [00:40<07:35,  2.41s/it]\n"
     ]
    },
    {
     "ename": "KeyboardInterrupt",
     "evalue": "",
     "output_type": "error",
     "traceback": [
      "\u001b[1;31m---------------------------------------------------------------------------\u001b[0m",
      "\u001b[1;31mKeyboardInterrupt\u001b[0m                         Traceback (most recent call last)",
      "Cell \u001b[1;32mIn[3], line 1\u001b[0m\n\u001b[1;32m----> 1\u001b[0m embedding, loss_history \u001b[38;5;241m=\u001b[39m \u001b[43mnode2vec\u001b[49m\u001b[43m(\u001b[49m\u001b[43mgraph\u001b[49m\u001b[38;5;241;43m=\u001b[39;49m\u001b[43mbc_dataset\u001b[49m\u001b[43m[\u001b[49m\u001b[38;5;124;43m'\u001b[39;49m\u001b[38;5;124;43mgraph\u001b[39;49m\u001b[38;5;124;43m'\u001b[39;49m\u001b[43m]\u001b[49m\u001b[43m,\u001b[49m\u001b[43m  \u001b[49m\u001b[43mwalks_per_vertex\u001b[49m\u001b[38;5;241;43m=\u001b[39;49m\u001b[38;5;241;43m5\u001b[39;49m\u001b[43m,\u001b[49m\u001b[43m \u001b[49m\u001b[43mwalk_length\u001b[49m\u001b[38;5;241;43m=\u001b[39;49m\u001b[38;5;241;43m40\u001b[39;49m\u001b[43m,\u001b[49m\u001b[43m \u001b[49m\u001b[43mwindow_size\u001b[49m\u001b[38;5;241;43m=\u001b[39;49m\u001b[38;5;241;43m10\u001b[39;49m\u001b[43m,\u001b[49m\u001b[43m  \u001b[49m\u001b[43membedding_size\u001b[49m\u001b[38;5;241;43m=\u001b[39;49m\u001b[38;5;241;43m128\u001b[39;49m\u001b[43m,\u001b[49m\u001b[43mnum_neg\u001b[49m\u001b[38;5;241;43m=\u001b[39;49m\u001b[38;5;241;43m5\u001b[39;49m\u001b[43m,\u001b[49m\u001b[43mlr\u001b[49m\u001b[38;5;241;43m=\u001b[39;49m\u001b[38;5;241;43m1e-2\u001b[39;49m\u001b[43m,\u001b[49m\u001b[43mepochs\u001b[49m\u001b[38;5;241;43m=\u001b[39;49m\u001b[38;5;241;43m1\u001b[39;49m\u001b[43m,\u001b[49m\u001b[43mbatch_size\u001b[49m\u001b[38;5;241;43m=\u001b[39;49m\u001b[38;5;241;43m50\u001b[39;49m\u001b[43m)\u001b[49m\n",
      "File \u001b[1;32mc:\\Users\\alex_\\Fac\\M2\\M2\\S2\\Discrete_Graphs\\Projet\\deepwalk-node2vec-comparison\\node_embeddings\\model.py:76\u001b[0m, in \u001b[0;36mnode2vec\u001b[1;34m(graph, walks_per_vertex, walk_length, window_size, embedding_size, num_neg, lr, epochs, batch_size, p, q)\u001b[0m\n\u001b[0;32m     74\u001b[0m n_batches \u001b[38;5;241m=\u001b[39m \u001b[38;5;28mint\u001b[39m(number_of_nodes \u001b[38;5;241m/\u001b[39m batch_size)\n\u001b[0;32m     75\u001b[0m \u001b[38;5;28;01mfor\u001b[39;00m n \u001b[38;5;129;01min\u001b[39;00m tqdm(node_loader, total\u001b[38;5;241m=\u001b[39mn_batches):\n\u001b[1;32m---> 76\u001b[0m     random_walk \u001b[38;5;241m=\u001b[39m \u001b[43mgen_batch_biaised_random_walk\u001b[49m\u001b[43m(\u001b[49m\u001b[43mgraph\u001b[49m\u001b[43m,\u001b[49m\u001b[43m \u001b[49m\u001b[43mn\u001b[49m\u001b[43m,\u001b[49m\u001b[43m \u001b[49m\u001b[43mwalk_length\u001b[49m\u001b[43m,\u001b[49m\u001b[43m \u001b[49m\u001b[43mwalks_per_vertex\u001b[49m\u001b[43m,\u001b[49m\u001b[43m \u001b[49m\u001b[43mp\u001b[49m\u001b[43m,\u001b[49m\u001b[43m \u001b[49m\u001b[43mq\u001b[49m\u001b[43m,\u001b[49m\u001b[43m \u001b[49m\u001b[43mneighbors_dict\u001b[49m\u001b[43m)\u001b[49m\n\u001b[0;32m     77\u001b[0m     num_windows \u001b[38;5;241m=\u001b[39m walk_length \u001b[38;5;241m+\u001b[39m \u001b[38;5;241m1\u001b[39m \u001b[38;5;241m-\u001b[39m window_size\n\u001b[0;32m     79\u001b[0m     \u001b[38;5;66;03m# Positive Sampling\u001b[39;00m\n\u001b[0;32m     80\u001b[0m     \u001b[38;5;66;03m# each row of windows is one window, we have B = walks_per_vertex*num_windows windows\u001b[39;00m\n",
      "File \u001b[1;32mc:\\Users\\alex_\\Fac\\M2\\M2\\S2\\Discrete_Graphs\\Projet\\deepwalk-node2vec-comparison\\node_embeddings\\biaised_random_walk.py:49\u001b[0m, in \u001b[0;36mgen_batch_biaised_random_walk\u001b[1;34m(graph, initial_nodes, length, num_walks, p, q, neighbors_dict)\u001b[0m\n\u001b[0;32m     47\u001b[0m \u001b[38;5;28;01mfor\u001b[39;00m i, n \u001b[38;5;129;01min\u001b[39;00m \u001b[38;5;28menumerate\u001b[39m(initial_nodes):\n\u001b[0;32m     48\u001b[0m     n \u001b[38;5;241m=\u001b[39m n\u001b[38;5;241m.\u001b[39mitem()\n\u001b[1;32m---> 49\u001b[0m     walk[num_walks\u001b[38;5;241m*\u001b[39mi:num_walks\u001b[38;5;241m*\u001b[39m(i\u001b[38;5;241m+\u001b[39m\u001b[38;5;241m1\u001b[39m)] \u001b[38;5;241m=\u001b[39m \u001b[43mgen_biaised_random_walk_tensor\u001b[49m\u001b[43m(\u001b[49m\u001b[43mgraph\u001b[49m\u001b[43m,\u001b[49m\u001b[43m \u001b[49m\u001b[43mn\u001b[49m\u001b[43m,\u001b[49m\u001b[43m \u001b[49m\u001b[43mlength\u001b[49m\u001b[43m,\u001b[49m\u001b[43m \u001b[49m\u001b[43mnum_walks\u001b[49m\u001b[43m,\u001b[49m\u001b[43m \u001b[49m\u001b[43mp\u001b[49m\u001b[43m,\u001b[49m\u001b[43m \u001b[49m\u001b[43mq\u001b[49m\u001b[43m,\u001b[49m\u001b[43mneighbors_dict\u001b[49m\u001b[43m)\u001b[49m\n\u001b[0;32m     50\u001b[0m \u001b[38;5;28;01mreturn\u001b[39;00m walk\n",
      "File \u001b[1;32mc:\\Users\\alex_\\Fac\\M2\\M2\\S2\\Discrete_Graphs\\Projet\\deepwalk-node2vec-comparison\\node_embeddings\\biaised_random_walk.py:15\u001b[0m, in \u001b[0;36mgen_biaised_random_walk_tensor\u001b[1;34m(graph, start_node, walk_length, num_walks, p, q, neighbors_dict)\u001b[0m\n\u001b[0;32m     13\u001b[0m walks[walk_index, step] \u001b[38;5;241m=\u001b[39m current_node\n\u001b[0;32m     14\u001b[0m \u001b[38;5;28;01mif\u001b[39;00m step \u001b[38;5;241m>\u001b[39m \u001b[38;5;241m0\u001b[39m:\n\u001b[1;32m---> 15\u001b[0m     prev_node \u001b[38;5;241m=\u001b[39m \u001b[38;5;28;43mint\u001b[39;49m\u001b[43m(\u001b[49m\u001b[43mwalks\u001b[49m\u001b[43m[\u001b[49m\u001b[43mwalk_index\u001b[49m\u001b[43m,\u001b[49m\u001b[43m \u001b[49m\u001b[43mstep\u001b[49m\u001b[43m \u001b[49m\u001b[38;5;241;43m-\u001b[39;49m\u001b[43m \u001b[49m\u001b[38;5;241;43m1\u001b[39;49m\u001b[43m]\u001b[49m\u001b[43m)\u001b[49m\n\u001b[0;32m     16\u001b[0m     current_node \u001b[38;5;241m=\u001b[39m get_next_node(graph,prev_node,current_node,p,q)\n\u001b[0;32m     17\u001b[0m \u001b[38;5;28;01melse\u001b[39;00m:\n",
      "\u001b[1;31mKeyboardInterrupt\u001b[0m: "
     ]
    }
   ],
   "source": [
    "embedding, loss_history = node2vec(graph=bc_dataset['graph'],\n",
    "                                   walks_per_vertex=5,\n",
    "                                   walk_length=40,\n",
    "                                   window_size=10,\n",
    "                                   embedding_size=128,\n",
    "                                   num_neg=5,\n",
    "                                   lr=1e-2,\n",
    "                                   epochs=1,\n",
    "                                   batch_size=50)"
   ]
  },
  {
   "cell_type": "code",
   "execution_count": null,
   "id": "584b2bef",
   "metadata": {},
   "outputs": [
    {
     "name": "stdout",
     "output_type": "stream",
     "text": [
      "(208,)\n"
     ]
    },
    {
     "data": {
      "image/png": "[encoded data removed]",
      "text/plain": [
       "<Figure size 640x480 with 1 Axes>"
      ]
     },
     "metadata": {},
     "output_type": "display_data"
    }
   ],
   "source": [
    "cumsum_vec = np.cumsum(np.insert(loss_history['total'], 0, 0)) \n",
    "print(cumsum_vec.shape)\n",
    "window_width = 10\n",
    "ma_vec = (cumsum_vec[window_width:] - cumsum_vec[:-window_width]) / window_width\n",
    "plt.plot(ma_vec)\n",
    "plt.show()"
   ]
  },
  {
   "cell_type": "code",
   "execution_count": null,
   "id": "b2255e93",
   "metadata": {},
   "outputs": [
    {
     "name": "stderr",
     "output_type": "stream",
     "text": [
      "c:\\Users\\alex_\\anaconda3\\envs\\pytorch\\Lib\\site-packages\\sklearn\\linear_model\\_logistic.py:460: ConvergenceWarning: lbfgs failed to converge (status=1):\n",
      "STOP: TOTAL NO. of ITERATIONS REACHED LIMIT.\n",
      "\n",
      "Increase the number of iterations (max_iter) or scale the data as shown in:\n",
      "    https://scikit-learn.org/stable/modules/preprocessing.html\n",
      "Please also refer to the documentation for alternative solver options:\n",
      "    https://scikit-learn.org/stable/modules/linear_model.html#logistic-regression\n",
      "  n_iter_i = _check_optimize_result(\n"
     ]
    },
    {
     "data": {
      "text/plain": [
       "0.14167959658650117"
      ]
     },
     "execution_count": 22,
     "metadata": {},
     "output_type": "execute_result"
    }
   ],
   "source": [
    "from sklearn.metrics import f1_score\n",
    "from sklearn.linear_model import LogisticRegression\n",
    "\n",
    "X = embedding.detach().numpy()\n",
    "y = bc_dataset['labels']\n",
    "\n",
    "clf = LogisticRegression(random_state=0).fit(X, y)\n",
    "y_hat = clf.predict(X)\n",
    "f1_score(y, y_hat, average='micro')"
   ]
  }
 ],
 "metadata": {
  "kernelspec": {
   "display_name": "pytorch",
   "language": "python",
   "name": "python3"
  },
  "language_info": {
   "codemirror_mode": {
    "name": "ipython",
    "version": 3
   },
   "file_extension": ".py",
   "mimetype": "text/x-python",
   "name": "python",
   "nbconvert_exporter": "python",
   "pygments_lexer": "ipython3",
   "version": "3.11.5"
  }
 },
 "nbformat": 4,
 "nbformat_minor": 5
}
