{
 "cells": [
  {
   "cell_type": "code",
   "execution_count": 5,
   "id": "10b307a7",
   "metadata": {},
   "outputs": [],
   "source": [
    "import networkx as nx\n",
    "import numpy as np\n",
    "import pickle as p\n",
    "from os import path\n",
    "from scipy.sparse import csr_matrix, lil_matrix\n",
    "from matplotlib import pyplot as plt\n",
    "%matplotlib inline\n",
    "import torch\n",
    "\n",
    "data_loc = 'C:/Users/alex_/Fac/M2/M2/S2/Discrete_Graphs/Projet/Data/BlogCatalog3/BlogCatalog-dataset/data/'"
   ]
  },
  {
   "cell_type": "markdown",
   "id": "ba68a41f",
   "metadata": {},
   "source": [
    "## Load Data"
   ]
  },
  {
   "cell_type": "code",
   "execution_count": 6,
   "id": "07063a4c",
   "metadata": {},
   "outputs": [
    {
     "name": "stdout",
     "output_type": "stream",
     "text": [
      "Number of nodes:  10312\n",
      "Number of edges:  333983\n"
     ]
    }
   ],
   "source": [
    "def load_data():\n",
    "    iid = {}\n",
    "    idx = 0\n",
    "    edgelist = []\n",
    "\n",
    "    # Read edges pairs\n",
    "    with open(data_loc+'edges.csv', 'r') as f:\n",
    "        for line in f.readlines():\n",
    "            i, j = line.strip().split(',')  # csv\n",
    "            if i not in iid:\n",
    "                iid[i] = idx; idx += 1\n",
    "            if j not in iid:\n",
    "                iid[j] = idx; idx += 1\n",
    "            edgelist.append((iid[i], iid[j]))\n",
    "\n",
    "    # Create an nx undirected network\n",
    "    bc = nx.Graph(edgelist)\n",
    "\n",
    "    print(\"Number of nodes: \", len(bc))\n",
    "    print(\"Number of edges: \", bc.size())\n",
    "\n",
    "    # Read labels\n",
    "    labels = np.zeros((len(bc)), dtype=int)\n",
    "    # Read (node_id, label) file\n",
    "    with open(data_loc+'group-edges.csv', 'r') as f:\n",
    "        for line in f.readlines():\n",
    "            node, group = line.strip().split(',') \n",
    "            labels[iid[node]] = int(group)-1  \n",
    "\n",
    "    bc_dataset = {'graph': bc, 'labels': labels}\n",
    "    return bc_dataset\n",
    "\n",
    "bc_dataset = load_data()"
   ]
  },
  {
   "cell_type": "code",
   "execution_count": 7,
   "id": "1e5baaa5",
   "metadata": {},
   "outputs": [
    {
     "name": "stdout",
     "output_type": "stream",
     "text": [
      "0\n",
      "38\n",
      "[[   0   60]\n",
      " [   1  488]\n",
      " [   2  365]\n",
      " [   3  119]\n",
      " [   4  625]\n",
      " [   5  563]\n",
      " [   6  393]\n",
      " [   7 1076]\n",
      " [   8  247]\n",
      " [   9  300]\n",
      " [  10  325]\n",
      " [  11   25]\n",
      " [  12   35]\n",
      " [  13  239]\n",
      " [  14   53]\n",
      " [  15  295]\n",
      " [  16  351]\n",
      " [  17  236]\n",
      " [  18  715]\n",
      " [  19  247]\n",
      " [  20  228]\n",
      " [  21  233]\n",
      " [  22  279]\n",
      " [  23  846]\n",
      " [  24  170]\n",
      " [  25  242]\n",
      " [  26   88]\n",
      " [  27   85]\n",
      " [  28  155]\n",
      " [  29  360]\n",
      " [  30   62]\n",
      " [  31  371]\n",
      " [  32   91]\n",
      " [  33   62]\n",
      " [  34   58]\n",
      " [  35  137]\n",
      " [  36   53]\n",
      " [  37   27]\n",
      " [  38    8]]\n"
     ]
    }
   ],
   "source": [
    "print(np.min(bc_dataset['labels']))\n",
    "print(np.max(bc_dataset['labels']))\n",
    "unique, counts = np.unique(bc_dataset['labels'], return_counts=True)\n",
    "print(np.asarray((unique, counts)).T)"
   ]
  },
  {
   "cell_type": "code",
   "execution_count": 8,
   "id": "82ae8b31",
   "metadata": {},
   "outputs": [
    {
     "data": {
      "text/plain": [
       "tensor([[   1, 3432,    1, 3432,    1],\n",
       "        [   1, 1319,    1, 1319,    1],\n",
       "        [   1, 1656,    1, 1656,    1]])"
      ]
     },
     "execution_count": 8,
     "metadata": {},
     "output_type": "execute_result"
    }
   ],
   "source": [
    "import random\n",
    "\n",
    "\n",
    "def gen_biaised_random_walk_tensor(graph, start_node, walk_length, num_walks, p, q):\n",
    "    walk = torch.zeros((num_walks, walk_length), dtype=int)\n",
    "    walk[:, 0] = start_node\n",
    "    j = 0\n",
    "    while j < num_walks:\n",
    "        current_node = start_node\n",
    "        step = 1\n",
    "        while step < walk_length:\n",
    "            neighbors = list(graph.neighbors(current_node))\n",
    "            if step == 1:\n",
    "                current_node = random.choice(neighbors)\n",
    "            else:\n",
    "                prev_node = walk[j,step-1]\n",
    "                current_node = biased_choose_next_node(graph, current_node, prev_node, p, q)\n",
    "            walk[j, step] = current_node\n",
    "            step += 1\n",
    "        j+=1\n",
    "    return walk\n",
    "\n",
    "\n",
    "def biased_choose_next_node(graph, current_node, prev_node, p, q):\n",
    "    neighbors = list(graph.neighbors(current_node))\n",
    "    weights = []\n",
    "    for neighbor in neighbors:\n",
    "        if neighbor == prev_node:\n",
    "            weights.append(1/p)\n",
    "        elif graph.has_edge(prev_node, neighbor):\n",
    "            weights.append(1)\n",
    "        else:\n",
    "            weights.append(1/q)\n",
    "    return random.choices(neighbors, weights=weights)[0]\n",
    "\n",
    "def gen_biaised_random_walk_tensor(graph, start_node, walk_length, num_walks, p, q , neighbors_dict):\n",
    "    walks = torch.zeros((num_walks, walk_length), dtype=int)\n",
    "    walks[:, 0] = start_node\n",
    "\n",
    "    for walk_index in range(num_walks):\n",
    "        current_node = start_node\n",
    "        for step in range(walk_length):\n",
    "            walks[walk_index, step] = current_node\n",
    "            if step > 0:\n",
    "                prev_node = int(walks[walk_index, step - 1])\n",
    "                current_node = get_next_node(graph,prev_node,current_node,p,q)\n",
    "            else:\n",
    "                current_node = np.random.choice(list(graph.neighbors(current_node)))\n",
    "            \n",
    "    \n",
    "    return walks\n",
    "\n",
    "def get_next_node(graph,t,v, p, q):\n",
    "    v_neighbors = set(graph.neighbors(v))\n",
    "    t_neighbors = set(graph.neighbors(t))\n",
    "    t_set = set([t])\n",
    "\n",
    "    vt_neighbors = v_neighbors & t_neighbors\n",
    "    only_v_neighbors = v_neighbors - t_neighbors - t_set\n",
    "\n",
    "    allsets = [vt_neighbors,only_v_neighbors,t_set]\n",
    "\n",
    "    vt_weights = 1 * len(vt_neighbors)\n",
    "    only_v_weights = 1/q * len(only_v_neighbors)\n",
    "    t_weight = 1/p\n",
    "\n",
    "    prob_vector = np.array((vt_weights,only_v_weights,t_weight))\n",
    "    prob_vector = prob_vector / np.sum(prob_vector)\n",
    "\n",
    "    chosen_set = np.random.choice(allsets,p=prob_vector)\n",
    "    next_node = np.random.choice(list(chosen_set))\n",
    "    return next_node\n",
    "\n",
    "# Assert all edges exist\n",
    "graph = bc_dataset['graph']\n",
    "neighbors_dict = {node: list(graph.neighbors(node)) for node in graph.nodes}\n",
    "rws = gen_biaised_random_walk_tensor(bc_dataset['graph'], 1, 5, 3, 0.00001, 5, neighbors_dict)\n",
    "rws"
   ]
  },
  {
   "cell_type": "code",
   "execution_count": 9,
   "id": "3e89a581",
   "metadata": {},
   "outputs": [],
   "source": [
    "def get_next_node(graph,t,v, p, q):\n",
    "    v_neighbors = set(graph.neighbors(v))\n",
    "    t_neighbors = set(graph.neighbors(t))\n",
    "    t_set = set([t])\n",
    "\n",
    "    vt_neighbors = v_neighbors & t_neighbors\n",
    "    only_v_neighbors = v_neighbors - t_neighbors - t_set\n",
    "\n",
    "    allsets = [vt_neighbors,only_v_neighbors,t_set]\n",
    "\n",
    "    vt_weights = 1 * len(vt_neighbors)\n",
    "    only_v_weights = 1/q * len(only_v_neighbors)\n",
    "    t_weight = 1/p\n",
    "\n",
    "    prob_vector = np.array((vt_weights,only_v_weights,t_weight))\n",
    "    prob_vector = prob_vector / np.sum(prob_vector)\n",
    "\n",
    "    chosen_set = np.random.choice(allsets,p=prob_vector)\n",
    "    next_node = np.random.choice(list(chosen_set))\n",
    "    return next_node"
   ]
  },
  {
   "cell_type": "code",
   "execution_count": 10,
   "id": "e24c28d5",
   "metadata": {},
   "outputs": [],
   "source": [
    "def gen_batch_biaised_random_walk(graph, initial_nodes, length, num_walks, p, q, neighbors_dict):\n",
    "    n_nodes = initial_nodes.shape[0]\n",
    "    walk = torch.zeros((num_walks*n_nodes, length), dtype=int)\n",
    "    for i, n in enumerate(initial_nodes):\n",
    "        n = n.item()\n",
    "        walk[num_walks*i:num_walks*(i+1)] = gen_biaised_random_walk_tensor(graph, n, length, num_walks, p, q,neighbors_dict)\n",
    "    return walk"
   ]
  },
  {
   "cell_type": "code",
   "execution_count": 11,
   "id": "343314b3",
   "metadata": {},
   "outputs": [
    {
     "data": {
      "text/plain": [
       "tensor([[   0,    8, 2340,  139, 6668],\n",
       "        [   0,   84,    3, 5400,  207],\n",
       "        [   0,   10,   33, 1899,  116],\n",
       "        [   1, 4495,  171, 3213,  166],\n",
       "        [   1,  708, 2527,  666, 2680],\n",
       "        [   1,  244, 2042,   40, 4071]])"
      ]
     },
     "execution_count": 11,
     "metadata": {},
     "output_type": "execute_result"
    }
   ],
   "source": [
    "rw = gen_batch_biaised_random_walk(bc_dataset['graph'], torch.tensor([0, 1]), 5, 3, 5, 5, neighbors_dict)\n",
    "rw"
   ]
  },
  {
   "cell_type": "code",
   "execution_count": 12,
   "id": "57636b1a",
   "metadata": {},
   "outputs": [
    {
     "data": {
      "text/plain": [
       "tensor([[   0,    8, 2340],\n",
       "        [   0,   84,    3],\n",
       "        [   0,   10,   33],\n",
       "        [   1, 4495,  171],\n",
       "        [   1,  708, 2527],\n",
       "        [   1,  244, 2042],\n",
       "        [   8, 2340,  139],\n",
       "        [  84,    3, 5400],\n",
       "        [  10,   33, 1899],\n",
       "        [4495,  171, 3213],\n",
       "        [ 708, 2527,  666],\n",
       "        [ 244, 2042,   40],\n",
       "        [2340,  139, 6668],\n",
       "        [   3, 5400,  207],\n",
       "        [  33, 1899,  116],\n",
       "        [ 171, 3213,  166],\n",
       "        [2527,  666, 2680],\n",
       "        [2042,   40, 4071]])"
      ]
     },
     "execution_count": 12,
     "metadata": {},
     "output_type": "execute_result"
    }
   ],
   "source": [
    "def generate_windows(random_walk, window_size):\n",
    "    num_walks, walk_length = random_walk.shape\n",
    "    # number of windows: e.g. length 5, window size 3 -> 3 windows ([0, 1, 2], [1, 2, 3], [2, 3, 4])\n",
    "    num_windows = walk_length + 1 - window_size\n",
    "    windows = torch.zeros((num_walks*num_windows, window_size), dtype=int)\n",
    "    for j in range(num_windows):\n",
    "        windows[num_walks*j:num_walks*(j+1)] = random_walk[:, j:j+window_size]\n",
    "    return windows\n",
    "\n",
    "windows = generate_windows(rw, 3)\n",
    "windows"
   ]
  },
  {
   "cell_type": "code",
   "execution_count": 13,
   "id": "6b455fa0",
   "metadata": {},
   "outputs": [
    {
     "data": {
      "text/plain": [
       "tensor([[-27.5856, -13.7282],\n",
       "        [ 22.2668,   1.1166],\n",
       "        [-15.0237,  10.9475],\n",
       "        [-13.6730,  18.9400],\n",
       "        [  9.8936,  -7.2246],\n",
       "        [ 10.1487, -29.7831],\n",
       "        [ 14.0012,  24.2916],\n",
       "        [-23.6582,  12.6139],\n",
       "        [ -5.9975,  12.1863],\n",
       "        [  4.1972,  18.6899],\n",
       "        [ 22.0449, -16.0899],\n",
       "        [-11.1825,  -1.6506],\n",
       "        [ 26.3575,   3.7692],\n",
       "        [  7.7341, -16.9368],\n",
       "        [-11.7596, -11.6987],\n",
       "        [ 16.3972, -20.9576],\n",
       "        [-26.1108,  10.8644],\n",
       "        [-12.8335,  -7.3134]])"
      ]
     },
     "execution_count": 13,
     "metadata": {},
     "output_type": "execute_result"
    }
   ],
   "source": [
    "def get_windows_dotproduct(windows, embedding):\n",
    "    embedding_size = embedding.shape[1]\n",
    "    # get the embedding of the initial node repeated num_windows times\n",
    "    first_emb = embedding[windows[:, 0]]\n",
    "    first_emb = first_emb.view(windows.shape[0], 1, embedding_size)\n",
    "    # get the embedding of the remaining nodes in each window\n",
    "    others_emb = embedding[windows[:, 1:]]\n",
    "    others_emb = others_emb.view(windows.shape[0], -1, embedding_size)\n",
    "    # result has same shape as others\n",
    "    # Each element is the dot product between the corresponding node embedding\n",
    "    # and the embedding of the first node of that walk\n",
    "    # that is, result_{i, j} for random walk i and element j is v_{W_{i, 0}} dot v_{W_{i, j}}\n",
    "    result = (first_emb*others_emb).sum(dim=-1)\n",
    "    return result\n",
    "\n",
    "embedding = torch.randn((12000, 300))\n",
    "get_windows_dotproduct(windows, embedding)"
   ]
  },
  {
   "cell_type": "code",
   "execution_count": 14,
   "id": "69c57727",
   "metadata": {},
   "outputs": [
    {
     "data": {
      "text/plain": [
       "tensor(-7.6030)"
      ]
     },
     "execution_count": 14,
     "metadata": {},
     "output_type": "execute_result"
    }
   ],
   "source": [
    "torch.log(torch.sigmoid(get_windows_dotproduct(windows, embedding))).mean()"
   ]
  },
  {
   "cell_type": "code",
   "execution_count": 15,
   "id": "f8b31f0c",
   "metadata": {},
   "outputs": [
    {
     "data": {
      "text/plain": [
       "tensor([[   0, 1568, 1555, 1431,  525],\n",
       "        [   0,  231, 1701, 1350,  588],\n",
       "        [   0,  334, 1661, 1016,  693]])"
      ]
     },
     "execution_count": 15,
     "metadata": {},
     "output_type": "execute_result"
    }
   ],
   "source": [
    "def gen_negative_samples(amount, length, initial_node, number_of_nodes):\n",
    "    negative_samples = torch.zeros((amount, length), dtype=int)\n",
    "    negative_samples[:, 0] = initial_node\n",
    "    negative_samples[:, 1:] = torch.randint(number_of_nodes, (amount, length-1))\n",
    "    return negative_samples\n",
    "\n",
    "gen_negative_samples(amount=3, length=5, initial_node=0, number_of_nodes=2000)"
   ]
  },
  {
   "cell_type": "code",
   "execution_count": 16,
   "id": "e11f6857",
   "metadata": {},
   "outputs": [
    {
     "data": {
      "text/plain": [
       "tensor([[   0, 1205, 1741, 1721,  422],\n",
       "        [   0,  607,  451, 1363, 1131],\n",
       "        [   0, 1395,  118,  189,  362],\n",
       "        [   1, 1828, 1794, 1480,  510],\n",
       "        [   1, 1587,  391, 1114,  219],\n",
       "        [   1, 1304, 1876, 1933, 1018]])"
      ]
     },
     "execution_count": 16,
     "metadata": {},
     "output_type": "execute_result"
    }
   ],
   "source": [
    "def gen_batch_negative_samples(amount, length, initial_nodes, number_of_nodes):\n",
    "    negative_samples = torch.zeros((amount*initial_nodes.shape[0], length), dtype=int)\n",
    "    negative_samples[:, 0] = initial_nodes.repeat(amount, 1).t().contiguous().view(-1)\n",
    "    negative_samples[:, 1:] = torch.randint(number_of_nodes, (amount*initial_nodes.shape[0], length-1))\n",
    "    return negative_samples\n",
    "\n",
    "gen_batch_negative_samples(amount=3, length=5, initial_nodes=torch.tensor([0, 1]), number_of_nodes=2000)"
   ]
  },
  {
   "cell_type": "code",
   "execution_count": 17,
   "id": "21b70a1c",
   "metadata": {},
   "outputs": [
    {
     "name": "stdout",
     "output_type": "stream",
     "text": [
      "[0, 1, 2, 3, 4, 5, 6, 7, 8, 9, 10, 11, 12, 13, 14, 15, 16, 17, 18, 19]\n",
      "[20, 21, 22, 23, 24, 25, 26, 27, 28, 29, 30, 31, 32, 33, 34, 35, 36, 37, 38, 39]\n",
      "[40, 41, 42, 43, 44, 45, 46, 47, 48, 49, 50, 51, 52, 53, 54, 55, 56, 57, 58, 59]\n",
      "[60, 61, 62, 63, 64, 65, 66, 67, 68, 69, 70, 71, 72, 73, 74, 75, 76, 77, 78, 79]\n",
      "[80, 81, 82, 83, 84, 85, 86, 87, 88, 89, 90, 91, 92, 93, 94, 95, 96, 97, 98, 99]\n",
      "[100]\n"
     ]
    }
   ],
   "source": [
    "def generate_batches(array, batch_size):\n",
    "    \"\"\"Yield successive batches of size `batch_size` from `array`.\"\"\"\n",
    "    for i in range(0, len(array), batch_size):\n",
    "        yield array[i:i + batch_size]\n",
    "\n",
    "gen = generate_batches(list(range(101)), 20)\n",
    "for batch in gen:\n",
    "    print(batch)"
   ]
  },
  {
   "cell_type": "code",
   "execution_count": 18,
   "id": "2ed30782",
   "metadata": {},
   "outputs": [],
   "source": [
    "from tqdm import tqdm\n",
    "eps = 1e-15\n",
    "\n",
    "def deepWalk(graph, walks_per_vertex, walk_length, window_size, embedding_size, num_neg, lr, epochs, batch_size, p = 5, q = 5):\n",
    "    number_of_nodes = graph.number_of_nodes()\n",
    "    \n",
    "    embedding = (torch.randn(size=(number_of_nodes, embedding_size)) ).detach()\n",
    "    embedding.requires_grad = True\n",
    "    optimizer = torch.optim.Adam([embedding], lr=lr)\n",
    "    loss_history = {'pos': [], 'neg': [], 'total': []}\n",
    "    neighbors_dict = {node: list(graph.neighbors(node)) for node in graph.nodes}\n",
    "\n",
    "    for _ in range(epochs):\n",
    "        nodes = torch.tensor(list(graph.nodes), dtype=int)\n",
    "        random.shuffle(nodes)\n",
    "        node_loader = generate_batches(nodes, batch_size)\n",
    "        n_batches = int(number_of_nodes / batch_size)\n",
    "        for n in tqdm(node_loader, total=n_batches):\n",
    "            random_walk = gen_batch_biaised_random_walk(graph, n, walk_length, walks_per_vertex, p, q, neighbors_dict)\n",
    "            num_windows = walk_length + 1 - window_size\n",
    "\n",
    "            # Positive Sampling\n",
    "            # each row of windows is one window, we have B = walks_per_vertex*num_windows windows\n",
    "            windows = generate_windows(random_walk, window_size)\n",
    "            batch_dotproduct = get_windows_dotproduct(windows, embedding)\n",
    "            # takes the sigmoid of the dot product to get probability, then\n",
    "            # takes the loglik and average through all elements\n",
    "            pos_loss = -torch.log(torch.sigmoid(batch_dotproduct)+eps).mean()\n",
    "            # Negative Sampling\n",
    "            negative_samples = gen_batch_negative_samples(\n",
    "                amount=num_neg*walks_per_vertex, \n",
    "                length=walk_length, \n",
    "                initial_nodes=n, \n",
    "                number_of_nodes=number_of_nodes\n",
    "            )\n",
    "            windows = generate_windows(negative_samples, window_size)\n",
    "            batch_dotproduct = get_windows_dotproduct(windows, embedding)\n",
    "            neg_loss = -torch.log(1-torch.sigmoid(batch_dotproduct)+eps).mean()\n",
    "\n",
    "            loss = pos_loss + neg_loss\n",
    "            # Optimization\n",
    "            loss.backward()\n",
    "            loss_history['total'].append(loss.detach().numpy())\n",
    "            loss_history['pos'].append(pos_loss.detach().numpy())\n",
    "            loss_history['neg'].append(neg_loss.detach().numpy())\n",
    "            optimizer.step()\n",
    "            optimizer.zero_grad()\n",
    "    return embedding, loss_history"
   ]
  },
  {
   "cell_type": "code",
   "execution_count": 20,
   "id": "38f0c9bd",
   "metadata": {},
   "outputs": [
    {
     "name": "stderr",
     "output_type": "stream",
     "text": [
      "207it [06:59,  2.03s/it]                         \n"
     ]
    }
   ],
   "source": [
    "embedding, loss_history = deepWalk(graph=bc_dataset['graph'],  walks_per_vertex=5, walk_length=40, window_size=10,  embedding_size=128,num_neg=5,lr=1e-2,epochs=1,batch_size=50)"
   ]
  },
  {
   "cell_type": "code",
   "execution_count": 21,
   "id": "584b2bef",
   "metadata": {},
   "outputs": [
    {
     "name": "stdout",
     "output_type": "stream",
     "text": [
      "(208,)\n"
     ]
    },
    {
     "data": {
      "image/png": "[encoded data removed]",
      "text/plain": [
       "<Figure size 640x480 with 1 Axes>"
      ]
     },
     "metadata": {},
     "output_type": "display_data"
    }
   ],
   "source": [
    "cumsum_vec = np.cumsum(np.insert(loss_history['total'], 0, 0)) \n",
    "print(cumsum_vec.shape)\n",
    "window_width = 10\n",
    "ma_vec = (cumsum_vec[window_width:] - cumsum_vec[:-window_width]) / window_width\n",
    "plt.plot(ma_vec)\n",
    "plt.show()"
   ]
  },
  {
   "cell_type": "code",
   "execution_count": 22,
   "id": "b2255e93",
   "metadata": {},
   "outputs": [
    {
     "name": "stderr",
     "output_type": "stream",
     "text": [
      "c:\\Users\\alex_\\anaconda3\\envs\\pytorch\\Lib\\site-packages\\sklearn\\linear_model\\_logistic.py:460: ConvergenceWarning: lbfgs failed to converge (status=1):\n",
      "STOP: TOTAL NO. of ITERATIONS REACHED LIMIT.\n",
      "\n",
      "Increase the number of iterations (max_iter) or scale the data as shown in:\n",
      "    https://scikit-learn.org/stable/modules/preprocessing.html\n",
      "Please also refer to the documentation for alternative solver options:\n",
      "    https://scikit-learn.org/stable/modules/linear_model.html#logistic-regression\n",
      "  n_iter_i = _check_optimize_result(\n"
     ]
    },
    {
     "data": {
      "text/plain": [
       "0.14167959658650117"
      ]
     },
     "execution_count": 22,
     "metadata": {},
     "output_type": "execute_result"
    }
   ],
   "source": [
    "from sklearn.metrics import f1_score\n",
    "from sklearn.linear_model import LogisticRegression\n",
    "\n",
    "X = embedding.detach().numpy()\n",
    "y = bc_dataset['labels']\n",
    "\n",
    "clf = LogisticRegression(random_state=0).fit(X, y)\n",
    "y_hat = clf.predict(X)\n",
    "f1_score(y, y_hat, average='micro')"
   ]
  },
  {
   "cell_type": "code",
   "execution_count": null,
   "id": "b87fbbef",
   "metadata": {},
   "outputs": [],
   "source": []
  }
 ],
 "metadata": {
  "kernelspec": {
   "display_name": "pytorch",
   "language": "python",
   "name": "python3"
  },
  "language_info": {
   "codemirror_mode": {
    "name": "ipython",
    "version": 3
   },
   "file_extension": ".py",
   "mimetype": "text/x-python",
   "name": "python",
   "nbconvert_exporter": "python",
   "pygments_lexer": "ipython3",
   "version": "3.11.5"
  }
 },
 "nbformat": 4,
 "nbformat_minor": 5
}
