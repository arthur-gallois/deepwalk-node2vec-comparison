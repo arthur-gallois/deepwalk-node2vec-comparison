{
 "cells": [
  {
   "cell_type": "code",
   "execution_count": 5,
   "id": "10b307a7",
   "metadata": {},
   "outputs": [],
   "source": [
    "# Imports\n",
    "%matplotlib inline\n",
    "import functools\n",
    "import matplotlib.pyplot as plt\n",
    "import jax\n",
    "import jax.numpy as jnp\n",
    "from jax import jit\n",
    "import optax\n",
    "import numpy as np\n",
    "from os import path\n",
    "from matplotlib import pyplot as plt\n",
    "import torch\n",
    "from jax import random as jrandom\n",
    "from functools import partial\n",
    "from jax import value_and_grad\n",
    "from tqdm import tqdm\n",
    "\n",
    "data_loc = 'C:/Users/arthu/OneDrive/CentraleSupelec/3A/Cours/Graphical Model/deepwalk-node2vec-comparison/BlogCatalog3/BlogCatalog-dataset/data/'\n"
   ]
  },
  {
   "cell_type": "markdown",
   "id": "442f72e4",
   "metadata": {},
   "source": [
    "## Load Data"
   ]
  },
  {
   "cell_type": "code",
   "execution_count": 13,
   "id": "07063a4c",
   "metadata": {},
   "outputs": [
    {
     "name": "stderr",
     "output_type": "stream",
     "text": [
      "100%|██████████| 333983/333983 [00:02<00:00, 143733.50it/s]\n"
     ]
    },
    {
     "name": "stdout",
     "output_type": "stream",
     "text": [
      "[0. 0. 0. ... 0. 0. 0.]\n"
     ]
    }
   ],
   "source": [
    "def load_data():\n",
    "    with open(data_loc+'nodes.csv', 'r') as f:\n",
    "        num_nodes = sum(1 for _ in f)\n",
    "    with open(data_loc+'edges.csv', 'r') as f:\n",
    "        num_edges = sum(1 for _ in f)\n",
    "    \n",
    "    adjacent_matrix = np.zeros((num_nodes,num_nodes))\n",
    "    num_neighbors = np.zeros(num_nodes)\n",
    "    with open(data_loc+'edges.csv', 'r') as f:\n",
    "        for line in tqdm(f.readlines(),total=num_edges):\n",
    "            i, j = line.strip().split(',')  # csv\n",
    "            i,j = int(i) - 1,int(j) - 1\n",
    "            adjacent_matrix[i,j] = num_neighbors[i] + 1\n",
    "            adjacent_matrix[j,i] = num_neighbors[j] + 1\n",
    "\n",
    "            num_neighbors[i] += 1\n",
    "            num_neighbors[j] += 1\n",
    "    adjacent_matrix = jnp.array(adjacent_matrix)\n",
    "    return adjacent_matrix\n",
    "adjacent_matrix = load_data()"
   ]
  },
  {
   "cell_type": "markdown",
   "id": "2746511e",
   "metadata": {},
   "source": [
    "## Visualizing the Graph\n",
    "To visualize the graph structure of the graph we created above, we will use the [`networkx`](networkx.org) library because it already has functions for drawing graphs.\n",
    "\n",
    "We first convert the `jraph.GraphsTuple` to a `networkx.DiGraph`."
   ]
  },
  {
   "cell_type": "code",
   "execution_count": 3,
   "id": "13deacf0",
   "metadata": {},
   "outputs": [],
   "source": [
    "#The graph is too big to be displayed\n",
    "#draw_jraph_graph_structure(bc_dataset)"
   ]
  },
  {
   "cell_type": "code",
   "execution_count": 88,
   "id": "867485e5",
   "metadata": {},
   "outputs": [],
   "source": [
    "rng_key = jrandom.key(1)\n",
    "\n",
    "@jit\n",
    "def get_next_node(params,_):\n",
    "    current_node,rng_key,adjacent_matrix = params\n",
    "    neighbors_mask = adjacent_matrix[current_node]\n",
    "    n_neighbors = (jax.lax.sqrt(jnp.sum(neighbors_mask + 1)) - 1) / 2\n",
    "    rng_key, subkey = jrandom.split(rng_key)\n",
    "    next_neighbor_index = jrandom.randint(subkey, [1],0,n_neighbors)\n",
    "    next_node = jnp.argwhere(neighbors_mask == next_neighbor_index,size=1)[0][0]\n",
    "    return (next_node,rng_key,adjacent_matrix),next_node\n"
   ]
  },
  {
   "cell_type": "code",
   "execution_count": 91,
   "id": "8e4eddad",
   "metadata": {},
   "outputs": [
    {
     "data": {
      "text/plain": [
       "Array(2770, dtype=int32)"
      ]
     },
     "execution_count": 91,
     "metadata": {},
     "output_type": "execute_result"
    }
   ],
   "source": [
    "get_next_node(params=(0,rng_key,adjacent_matrix),_=None)[1]"
   ]
  },
  {
   "cell_type": "code",
   "execution_count": 110,
   "id": "306b0712",
   "metadata": {},
   "outputs": [],
   "source": [
    "@partial(jit,static_argnames=['walk_length'])\n",
    "def get_walk(initial_node,walk_length,rng_key,adjacent_matrix):\n",
    "    walk = jax.lax.scan(f=get_next_node,init=(initial_node,rng_key,adjacent_matrix),xs=None,length=walk_length)[1]\n",
    "    return walk"
   ]
  },
  {
   "cell_type": "code",
   "execution_count": 111,
   "id": "237fa850",
   "metadata": {},
   "outputs": [
    {
     "data": {
      "text/plain": [
       "Array([2770,  745,  499, 3907, 2241], dtype=int32)"
      ]
     },
     "execution_count": 111,
     "metadata": {},
     "output_type": "execute_result"
    }
   ],
   "source": [
    "get_walk(0,5,rng_key,adjacent_matrix)"
   ]
  },
  {
   "cell_type": "code",
   "execution_count": 122,
   "id": "82ae8b31",
   "metadata": {},
   "outputs": [],
   "source": [
    "def gen_random_walk_tensor(initial_node, walk_length, num_walks,rng_key,adjacent_matrix ):\n",
    "    walk_batch = np.zeros((num_walks,walk_length))\n",
    "    for i in range(num_walks):\n",
    "        walk_batch[i] = get_walk(initial_node=initial_node,walk_length=walk_length,rng_key=rng_key,adjacent_matrix=adjacent_matrix)\n",
    "    return walk_batch"
   ]
  },
  {
   "cell_type": "code",
   "execution_count": 127,
   "id": "57ec5c0e",
   "metadata": {},
   "outputs": [
    {
     "name": "stdout",
     "output_type": "stream",
     "text": [
      "[[2770.  745.  499. ... 1680.  879. 3660.]\n",
      " [2770.  745.  499. ... 1680.  879. 3660.]\n",
      " [2770.  745.  499. ... 1680.  879. 3660.]\n",
      " ...\n",
      " [2770.  745.  499. ... 1680.  879. 3660.]\n",
      " [2770.  745.  499. ... 1680.  879. 3660.]\n",
      " [2770.  745.  499. ... 1680.  879. 3660.]]\n"
     ]
    }
   ],
   "source": [
    "walk = gen_random_walk_tensor(0,10,10,rng_key,adjacent_matrix)\n",
    "print(walk)"
   ]
  },
  {
   "cell_type": "code",
   "execution_count": null,
   "id": "3916250f",
   "metadata": {},
   "outputs": [
    {
     "ename": "TypeError",
     "evalue": "Shapes must be 1D sequences of concrete values of integer type, got (Traced<ShapedArray(int32[], weak_type=True)>with<DynamicJaxprTrace(level=1/0)>, Traced<ShapedArray(int32[], weak_type=True)>with<DynamicJaxprTrace(level=1/0)>).\nIf using `jit`, try using `static_argnums` or applying `jit` to smaller subfunctions.\nThe error occurred while tracing the function gen_batch_random_walk at C:\\Users\\arthu\\AppData\\Local\\Temp\\ipykernel_5292\\309023732.py:1 for jit. This concrete value was not available in Python because it depends on the value of the argument num_walks.\nThe error occurred while tracing the function gen_batch_random_walk at C:\\Users\\arthu\\AppData\\Local\\Temp\\ipykernel_5292\\309023732.py:1 for jit. This concrete value was not available in Python because it depends on the value of the argument length.",
     "output_type": "error",
     "traceback": [
      "\u001b[1;31m---------------------------------------------------------------------------\u001b[0m",
      "\u001b[1;31mTypeError\u001b[0m                                 Traceback (most recent call last)",
      "Cell \u001b[1;32mIn[73], line 14\u001b[0m\n\u001b[0;32m     11\u001b[0m     \u001b[38;5;28;01mreturn\u001b[39;00m walk, batch_walk , rng_key\n\u001b[0;32m     13\u001b[0m rng_key \u001b[38;5;241m=\u001b[39m jrandom\u001b[38;5;241m.\u001b[39mkey(\u001b[38;5;241m0\u001b[39m)\n\u001b[1;32m---> 14\u001b[0m last_walk, batch_walk, rng_key \u001b[38;5;241m=\u001b[39m \u001b[43mgen_batch_random_walk\u001b[49m\u001b[43m(\u001b[49m\u001b[43mwalk\u001b[49m\u001b[43m,\u001b[49m\u001b[43m \u001b[49m\u001b[43mbc_dataset\u001b[49m\u001b[43m,\u001b[49m\u001b[43m \u001b[49m\u001b[43mjnp\u001b[49m\u001b[38;5;241;43m.\u001b[39;49m\u001b[43marray\u001b[49m\u001b[43m(\u001b[49m\u001b[43m[\u001b[49m\u001b[38;5;241;43m0\u001b[39;49m\u001b[43m,\u001b[49m\u001b[43m \u001b[49m\u001b[38;5;241;43m1\u001b[39;49m\u001b[43m]\u001b[49m\u001b[43m)\u001b[49m\u001b[43m,\u001b[49m\u001b[43m \u001b[49m\u001b[38;5;241;43m5\u001b[39;49m\u001b[43m,\u001b[49m\u001b[43m \u001b[49m\u001b[38;5;241;43m3\u001b[39;49m\u001b[43m,\u001b[49m\u001b[43m \u001b[49m\u001b[43mrng_key\u001b[49m\u001b[43m)\u001b[49m\n\u001b[0;32m     15\u001b[0m \u001b[38;5;28mprint\u001b[39m(batch_walk)\n",
      "    \u001b[1;31m[... skipping hidden 12 frame]\u001b[0m\n",
      "Cell \u001b[1;32mIn[73], line 4\u001b[0m, in \u001b[0;36mgen_batch_random_walk\u001b[1;34m(batch_walk, graph, initial_nodes, length, num_walks, rng_key)\u001b[0m\n\u001b[0;32m      1\u001b[0m \u001b[38;5;129m@jit\u001b[39m\n\u001b[0;32m      2\u001b[0m \u001b[38;5;28;01mdef\u001b[39;00m \u001b[38;5;21mgen_batch_random_walk\u001b[39m(batch_walk, graph, initial_nodes, length, num_walks, rng_key):\n\u001b[0;32m      3\u001b[0m     n_nodes \u001b[38;5;241m=\u001b[39m initial_nodes\u001b[38;5;241m.\u001b[39mshape[\u001b[38;5;241m0\u001b[39m]\n\u001b[1;32m----> 4\u001b[0m     walk \u001b[38;5;241m=\u001b[39m \u001b[43mjnp\u001b[49m\u001b[38;5;241;43m.\u001b[39;49m\u001b[43mzeros\u001b[49m\u001b[43m(\u001b[49m\u001b[43m(\u001b[49m\u001b[43mnum_walks\u001b[49m\u001b[43m,\u001b[49m\u001b[43m \u001b[49m\u001b[43mlength\u001b[49m\u001b[43m)\u001b[49m\u001b[43m,\u001b[49m\u001b[43m \u001b[49m\u001b[43mdtype\u001b[49m\u001b[38;5;241;43m=\u001b[39;49m\u001b[43mjnp\u001b[49m\u001b[38;5;241;43m.\u001b[39;49m\u001b[43mint32\u001b[49m\u001b[43m)\u001b[49m\n\u001b[0;32m      5\u001b[0m     batch_walk \u001b[38;5;241m=\u001b[39m jnp\u001b[38;5;241m.\u001b[39mzeros((num_walks \u001b[38;5;241m*\u001b[39m n_nodes, length), dtype\u001b[38;5;241m=\u001b[39mjnp\u001b[38;5;241m.\u001b[39mint32)\n\u001b[0;32m      6\u001b[0m     \u001b[38;5;28;01mfor\u001b[39;00m i, n \u001b[38;5;129;01min\u001b[39;00m \u001b[38;5;28menumerate\u001b[39m(initial_nodes):\n",
      "File \u001b[1;32mc:\\Users\\arthu\\miniconda3\\Lib\\site-packages\\jax\\_src\\numpy\\lax_numpy.py:2332\u001b[0m, in \u001b[0;36mzeros\u001b[1;34m(shape, dtype, device)\u001b[0m\n\u001b[0;32m   2330\u001b[0m \u001b[38;5;28;01mif\u001b[39;00m (m \u001b[38;5;241m:=\u001b[39m _check_forgot_shape_tuple(\u001b[38;5;124m\"\u001b[39m\u001b[38;5;124mzeros\u001b[39m\u001b[38;5;124m\"\u001b[39m, shape, dtype)): \u001b[38;5;28;01mraise\u001b[39;00m \u001b[38;5;167;01mTypeError\u001b[39;00m(m)\n\u001b[0;32m   2331\u001b[0m dtypes\u001b[38;5;241m.\u001b[39mcheck_user_dtype_supported(dtype, \u001b[38;5;124m\"\u001b[39m\u001b[38;5;124mzeros\u001b[39m\u001b[38;5;124m\"\u001b[39m)\n\u001b[1;32m-> 2332\u001b[0m shape \u001b[38;5;241m=\u001b[39m \u001b[43mcanonicalize_shape\u001b[49m\u001b[43m(\u001b[49m\u001b[43mshape\u001b[49m\u001b[43m)\u001b[49m\n\u001b[0;32m   2333\u001b[0m \u001b[38;5;28;01mreturn\u001b[39;00m lax\u001b[38;5;241m.\u001b[39mfull(shape, \u001b[38;5;241m0\u001b[39m, _jnp_dtype(dtype), sharding\u001b[38;5;241m=\u001b[39m_normalize_to_sharding(device))\n",
      "File \u001b[1;32mc:\\Users\\arthu\\miniconda3\\Lib\\site-packages\\jax\\_src\\numpy\\lax_numpy.py:86\u001b[0m, in \u001b[0;36mcanonicalize_shape\u001b[1;34m(shape, context)\u001b[0m\n\u001b[0;32m     84\u001b[0m   \u001b[38;5;28;01mreturn\u001b[39;00m core\u001b[38;5;241m.\u001b[39mcanonicalize_shape((shape,), context)  \u001b[38;5;66;03m# type: ignore\u001b[39;00m\n\u001b[0;32m     85\u001b[0m \u001b[38;5;28;01melse\u001b[39;00m:\n\u001b[1;32m---> 86\u001b[0m   \u001b[38;5;28;01mreturn\u001b[39;00m \u001b[43mcore\u001b[49m\u001b[38;5;241;43m.\u001b[39;49m\u001b[43mcanonicalize_shape\u001b[49m\u001b[43m(\u001b[49m\u001b[43mshape\u001b[49m\u001b[43m,\u001b[49m\u001b[43m \u001b[49m\u001b[43mcontext\u001b[49m\u001b[43m)\u001b[49m\n",
      "File \u001b[1;32mc:\\Users\\arthu\\miniconda3\\Lib\\site-packages\\jax\\_src\\core.py:2117\u001b[0m, in \u001b[0;36mcanonicalize_shape\u001b[1;34m(shape, context)\u001b[0m\n\u001b[0;32m   2115\u001b[0m \u001b[38;5;28;01mexcept\u001b[39;00m \u001b[38;5;167;01mTypeError\u001b[39;00m:\n\u001b[0;32m   2116\u001b[0m   \u001b[38;5;28;01mpass\u001b[39;00m\n\u001b[1;32m-> 2117\u001b[0m \u001b[38;5;28;01mraise\u001b[39;00m _invalid_shape_error(shape, context)\n",
      "\u001b[1;31mTypeError\u001b[0m: Shapes must be 1D sequences of concrete values of integer type, got (Traced<ShapedArray(int32[], weak_type=True)>with<DynamicJaxprTrace(level=1/0)>, Traced<ShapedArray(int32[], weak_type=True)>with<DynamicJaxprTrace(level=1/0)>).\nIf using `jit`, try using `static_argnums` or applying `jit` to smaller subfunctions.\nThe error occurred while tracing the function gen_batch_random_walk at C:\\Users\\arthu\\AppData\\Local\\Temp\\ipykernel_5292\\309023732.py:1 for jit. This concrete value was not available in Python because it depends on the value of the argument num_walks.\nThe error occurred while tracing the function gen_batch_random_walk at C:\\Users\\arthu\\AppData\\Local\\Temp\\ipykernel_5292\\309023732.py:1 for jit. This concrete value was not available in Python because it depends on the value of the argument length."
     ]
    }
   ],
   "source": [
    "@jit\n",
    "def gen_batch_random_walk(batch_walk, graph, initial_nodes, length, num_walks, rng_key):\n",
    "    n_nodes = initial_nodes.shape[0]\n",
    "    walk = jnp.zeros((num_walks, length), dtype=jnp.int32)\n",
    "    batch_walk = jnp.zeros((num_walks * n_nodes, length), dtype=jnp.int32)\n",
    "    for i, n in enumerate(initial_nodes):\n",
    "        n = n.item()\n",
    "        rng_key, subkey = jrandom.split(rng_key)\n",
    "        sub_walk, rng_key = gen_random_walk_tensor(walk, graph, n, length, num_walks, subkey)\n",
    "        batch_walk = batch_walk.at[num_walks * i:num_walks * (i + 1)].set(sub_walk)\n",
    "    return walk, batch_walk , rng_key\n",
    "\n",
    "rng_key = jrandom.key(0)\n",
    "last_walk, batch_walk, rng_key = gen_batch_random_walk(walk, bc_dataset, jnp.array([0, 1]), 5, 3, rng_key)\n",
    "print(batch_walk)"
   ]
  },
  {
   "cell_type": "code",
   "execution_count": null,
   "id": "a7eda3e2",
   "metadata": {},
   "outputs": [
    {
     "name": "stdout",
     "output_type": "stream",
     "text": [
      "(6, 5)\n",
      "(18, 3)\n"
     ]
    }
   ],
   "source": [
    "def generate_windows(windows, random_walk, window_size):\n",
    "    num_walks, walk_length = random_walk.shape\n",
    "    num_windows = walk_length + 1 - window_size\n",
    "    windows = jnp.zeros((num_walks * num_windows, window_size), dtype=jnp.int32)\n",
    "    for j in range(num_windows):\n",
    "        windows = windows.at[num_walks * j:num_walks * (j + 1)].set(random_walk[:, j:j + window_size])\n",
    "    return windows\n",
    "\n",
    "windows = jnp.zeros((1,1), dtype=int)\n",
    "windows = generate_windows(windows,batch_walk, 3)\n",
    "print(batch_walk.shape)\n",
    "print(windows.shape)"
   ]
  },
  {
   "cell_type": "code",
   "execution_count": null,
   "id": "39e0c029",
   "metadata": {},
   "outputs": [
    {
     "data": {
      "text/plain": [
       "Array([[  9.989287  ,  14.3554125 ],\n",
       "       [  0.10503864,  -8.012433  ],\n",
       "       [  8.171717  ,  22.485273  ],\n",
       "       [-14.368267  ,  19.513103  ],\n",
       "       [ -4.4057894 ,  -8.634466  ],\n",
       "       [-10.255943  ,   3.440627  ],\n",
       "       [-11.403229  , -12.996873  ],\n",
       "       [ -1.2675219 ,  17.343773  ],\n",
       "       [ -6.708728  ,  -7.2031827 ],\n",
       "       [-19.548513  ,  23.787937  ],\n",
       "       [  8.799166  ,  29.11709   ],\n",
       "       [-23.854403  ,  -1.1407948 ],\n",
       "       [ 37.785007  , -10.838486  ],\n",
       "       [  9.711826  , -32.64926   ],\n",
       "       [ -3.9425364 ,   1.50566   ],\n",
       "       [-11.725664  ,  11.1334    ],\n",
       "       [  5.2066326 , -15.35693   ],\n",
       "       [ -1.85783   , -27.490053  ]], dtype=float32)"
      ]
     },
     "execution_count": 61,
     "metadata": {},
     "output_type": "execute_result"
    }
   ],
   "source": [
    "@jit\n",
    "def get_windows_dotproduct(windows, embedding):\n",
    "    embedding_size = embedding.shape[1]\n",
    "    # get the embedding of the initial node repeated num_windows times\n",
    "    first_emb = embedding[windows[:, 0]]\n",
    "    first_emb = jnp.expand_dims(first_emb, axis=1)  # Ajouter une nouvelle dimension\n",
    "    # get the embedding of the remaining nodes in each window\n",
    "    others_emb = embedding[windows[:, 1:]]\n",
    "    others_emb = others_emb.reshape(windows.shape[0], -1, embedding_size)\n",
    "    # result has same shape as others\n",
    "    # Each element is the dot product between the corresponding node embedding\n",
    "    # and the embedding of the first node of that walk\n",
    "    # that is, result_{i, j} for random walk i and element j is v_{W_{i, 0}} dot v_{W_{i, j}}\n",
    "    result = jnp.sum(first_emb * others_emb, axis=-1)\n",
    "    return result\n",
    "\n",
    "vg_get_windows_dotproduct = value_and_grad(get_windows_dotproduct,argnums=1)\n",
    "\n",
    "embedding_jax = jax.random.normal(rng_key, shape=(12000, 300))\n",
    "get_windows_dotproduct(windows, embedding_jax)"
   ]
  },
  {
   "cell_type": "code",
   "execution_count": null,
   "id": "1cb5b8d0",
   "metadata": {},
   "outputs": [],
   "source": [
    "@jit\n",
    "def compute_mean_log_sigmoid(windows, embedding):\n",
    "    dot_product = get_windows_dotproduct(windows, embedding)\n",
    "    sigmoid_output = 1 / (1 + jnp.exp(-dot_product))  # Sigmoid function\n",
    "    log_sigmoid_output = jnp.log(sigmoid_output)  # Logarithm\n",
    "    return jnp.mean(log_sigmoid_output)  # Mean\n",
    "\n",
    "# Usage example:\n",
    "mean_log_sigmoid = compute_mean_log_sigmoid(windows, embedding_jax)"
   ]
  },
  {
   "cell_type": "code",
   "execution_count": null,
   "id": "72c69545",
   "metadata": {},
   "outputs": [
    {
     "data": {
      "text/plain": [
       "(Array([[   0,  825,  911, 1631, 1314],\n",
       "        [   0,   28, 1399, 1362,  613],\n",
       "        [   0, 1806,  630, 1652,  360]], dtype=int32),\n",
       " Array((), dtype=key<fry>) overlaying:\n",
       " [3000548268 4272618543])"
      ]
     },
     "execution_count": 19,
     "metadata": {},
     "output_type": "execute_result"
    }
   ],
   "source": [
    "def gen_negative_samples(amount, length, initial_node, number_of_nodes,rng_key):\n",
    "  \"\"\"Generates negative samples for a random walk process in JAX.\n",
    "\n",
    "  Args:\n",
    "    amount: Number of negative samples to generate.\n",
    "    length: Length of each negative sample walk (number of nodes in the path).\n",
    "    initial_node: Starting node for all negative samples.\n",
    "    number_of_nodes: Total number of nodes in the graph.\n",
    "\n",
    "  Returns:\n",
    "    A JAX array of shape (amount, length) containing the negative samples.\n",
    "  \"\"\"\n",
    "  negative_samples = jnp.zeros((amount, length), dtype=jnp.int32)  # Use jnp.int32 for node indices\n",
    "  negative_samples = negative_samples.at[:, 0].set(initial_node)  # Set initial node efficiently\n",
    "  rng_key, subkey = jrandom.split(rng_key)\n",
    "  negative_samples = negative_samples.at[:, 1:].set(\n",
    "      jrandom.randint(rng_key,shape=(amount, length - 1),minval = 0, maxval = number_of_nodes)\n",
    "  )\n",
    "  return negative_samples, rng_key\n",
    "\n",
    "gen_negative_samples(amount=3, length=5, initial_node=0, number_of_nodes=2000,rng_key =rng_key)"
   ]
  },
  {
   "cell_type": "code",
   "execution_count": null,
   "id": "c8fdede1",
   "metadata": {},
   "outputs": [
    {
     "name": "stdout",
     "output_type": "stream",
     "text": [
      "[[   0 1180 1940  427  957]\n",
      " [   0 1528 1469  905   90]\n",
      " [   0 1610  587  474  515]\n",
      " [   1 1402   71 1354 1003]\n",
      " [   1  205 1527 1098  918]\n",
      " [   1  859 1883 1862 1594]]\n"
     ]
    }
   ],
   "source": [
    "def gen_batch_negative_samples(amount, length, initial_nodes, number_of_nodes,rng_key):\n",
    "  \"\"\"Generates negative samples for a random walk process in JAX for a batch of initial nodes.\n",
    "\n",
    "  Args:\n",
    "    amount: Number of negative samples to generate per initial node.\n",
    "    length: Length of each negative sample walk (number of nodes in the path).\n",
    "    initial_nodes: A JAX array of shape (batch_size,) containing initial nodes for each sample.\n",
    "    number_of_nodes: Total number of nodes in the graph.\n",
    "\n",
    "  Returns:\n",
    "    A JAX array of shape (amount * batch_size, length) containing the negative samples.\n",
    "  \"\"\"\n",
    "\n",
    "  # Expand initial_nodes to match amount (amount, batch_size)\n",
    "  #initial_nodes = jnp.expand_dims(initial_nodes, axis=0).repeat(amount, axis=0)\n",
    "  n_nodes = initial_nodes.shape[0]\n",
    "  num_walks = amount\n",
    "  sub_negative_sample = jnp.zeros((num_walks, length), dtype=jnp.int32)\n",
    "  batch_negative_sample = jnp.zeros((num_walks * n_nodes, length), dtype=jnp.int32)\n",
    "  for i, n in enumerate(initial_nodes):\n",
    "      n = n.item()\n",
    "      rng_key, subkey = jrandom.split(rng_key)\n",
    "      sub_negative_sample, rng_key = gen_negative_samples(amount, length, n, number_of_nodes, subkey)\n",
    "      batch_negative_sample = batch_negative_sample.at[amount * i:amount * (i + 1)].set(sub_negative_sample)\n",
    "  return batch_negative_sample , rng_key\n",
    "\n",
    "\n",
    "# Example usage\n",
    "initial_nodes = jnp.array([0, 1])\n",
    "a, b =gen_batch_negative_samples(amount=3, length=5, initial_nodes=initial_nodes, number_of_nodes=2000,rng_key = rng_key)\n",
    "print(a)"
   ]
  },
  {
   "cell_type": "code",
   "execution_count": null,
   "id": "8d351cc2",
   "metadata": {},
   "outputs": [
    {
     "name": "stdout",
     "output_type": "stream",
     "text": [
      "[0, 1, 2, 3, 4, 5, 6, 7, 8, 9, 10, 11, 12, 13, 14, 15, 16, 17, 18, 19]\n",
      "[20, 21, 22, 23, 24, 25, 26, 27, 28, 29, 30, 31, 32, 33, 34, 35, 36, 37, 38, 39]\n",
      "[40, 41, 42, 43, 44, 45, 46, 47, 48, 49, 50, 51, 52, 53, 54, 55, 56, 57, 58, 59]\n",
      "[60, 61, 62, 63, 64, 65, 66, 67, 68, 69, 70, 71, 72, 73, 74, 75, 76, 77, 78, 79]\n",
      "[80, 81, 82, 83, 84, 85, 86, 87, 88, 89, 90, 91, 92, 93, 94, 95, 96, 97, 98, 99]\n",
      "[100]\n"
     ]
    }
   ],
   "source": [
    "def generate_batches(array, batch_size):\n",
    "    \"\"\"Yield successive batches of size `batch_size` from `array`.\"\"\"\n",
    "    for i in range(0, len(array), batch_size):\n",
    "        yield array[i:i + batch_size]\n",
    "\n",
    "gen = generate_batches(list(range(101)), 20)\n",
    "for batch in gen:\n",
    "    print(batch)"
   ]
  },
  {
   "cell_type": "code",
   "execution_count": null,
   "id": "c04a7166",
   "metadata": {},
   "outputs": [],
   "source": [
    "from tqdm import tqdm\n",
    "eps = 1e-15\n",
    "\n",
    "def deepWalk(graph, walks_per_vertex, walk_length, window_size, embedding_size, num_neg, lr, epochs, batch_size):\n",
    "    number_of_nodes = jnp.array([jnp.unique(graph.senders).size])\n",
    "    \n",
    "    embedding = (torch.randn(size=(number_of_nodes, embedding_size)))\n",
    "    embedding = jax.random.normal(rng_key, shape=(number_of_nodes, embedding_size))\n",
    "    embedding.requires_grad = True\n",
    "    optimizer = torch.optim.SGD([embedding], lr=lr)\n",
    "    loss_history = {'pos': [], 'neg': [], 'total': []}\n",
    "\n",
    "    for _ in range(epochs):\n",
    "        nodes = torch.tensor(list(graph.nodes), dtype=int)\n",
    "        random.shuffle(nodes)\n",
    "        node_loader = generate_batches(nodes, batch_size)\n",
    "        n_batches = int(number_of_nodes / batch_size)\n",
    "        for n in tqdm(node_loader, total=n_batches):\n",
    "            random_walk = gen_batch_random_walk(graph, n, walk_length, walks_per_vertex)\n",
    "            num_windows = walk_length + 1 - window_size\n",
    "\n",
    "            # Positive Sampling\n",
    "            # each row of windows is one window, we have B = walks_per_vertex*num_windows windows\n",
    "            windows = generate_windows(random_walk, window_size)\n",
    "            batch_dotproduct = get_windows_dotproduct(windows, embedding)\n",
    "            # takes the sigmoid of the dot product to get probability, then\n",
    "            # takes the loglik and average through all elements\n",
    "            pos_loss = -torch.log(torch.sigmoid(batch_dotproduct)+eps).mean()\n",
    "            # Negative Sampling\n",
    "            negative_samples = gen_batch_negative_samples(\n",
    "                amount=num_neg*walks_per_vertex, \n",
    "                length=walk_length, \n",
    "                initial_nodes=n, \n",
    "                number_of_nodes=number_of_nodes\n",
    "            )\n",
    "            windows = generate_windows(negative_samples, window_size)\n",
    "            batch_dotproduct = get_windows_dotproduct(windows, embedding)\n",
    "            neg_loss = -torch.log(1-torch.sigmoid(batch_dotproduct)+eps).mean()\n",
    "\n",
    "            loss = pos_loss + neg_loss\n",
    "            # Optimization\n",
    "            loss.backward()\n",
    "            loss_history['total'].append(loss.detach().numpy())\n",
    "            loss_history['pos'].append(pos_loss.detach().numpy())\n",
    "            loss_history['neg'].append(neg_loss.detach().numpy())\n",
    "            optimizer.step()\n",
    "            optimizer.zero_grad()  \n",
    "\n",
    "    return embedding, loss_history"
   ]
  },
  {
   "cell_type": "code",
   "execution_count": null,
   "id": "bb3aa121",
   "metadata": {},
   "outputs": [],
   "source": [
    "import jax\n",
    "import jax.numpy as jnp\n",
    "from jax import random\n",
    "import optax\n",
    "from tqdm import tqdm\n",
    "\n",
    "\n",
    "### TO FIX\n",
    "\n",
    "def deepWalk(graph, walks_per_vertex, walk_length, window_size, embedding_size, num_neg, lr, epochs, batch_size,rng_key ,eps = 1e-15):\n",
    "    \n",
    "    number_of_nodes = int(jnp.unique(graph.senders).size)\n",
    "    \n",
    "    embedding = jax.random.normal(rng_key, shape=(number_of_nodes, embedding_size))\n",
    "    optimizer = optax.sgd(learning_rate=lr)\n",
    "    opt_state = optimizer.init(embedding)\n",
    "    loss_history = {'pos': [], 'neg': [], 'total': []}\n",
    "\n",
    "    def loss_fn(params, batch_walk, window_size, eps = 1e-8):\n",
    "        windows = 0\n",
    "        windows = generate_windows(windows, batch_walk, window_size)\n",
    "        batch_dotproduct_positive = get_windows_dotproduct(windows, params)\n",
    "        windows = generate_windows(windows,batch_negative_sample, window_size)\n",
    "        batch_dotproduct_negative = get_windows_dotproduct(windows, params)\n",
    "        pos_loss = -jnp.log(jax.nn.sigmoid(batch_dotproduct_positive) + eps).mean()\n",
    "        neg_loss = -jnp.log(1 - jax.nn.sigmoid(batch_dotproduct_negative) + eps).mean()\n",
    "        return pos_loss + neg_loss\n",
    "\n",
    "    grad_fn = jax.value_and_grad(loss_fn)\n",
    "    \n",
    "    def update(params, opt_state, batch_walk, windows):\n",
    "        \n",
    "\n",
    "        loss, grads = grad_fn(params, batch_walk, window_size)\n",
    "\n",
    "\n",
    "        updates, opt_state = optimizer.update(grads, opt_state)\n",
    "        new_params = optax.apply_updates(params, updates)\n",
    "        return new_params, opt_state, loss\n",
    "\n",
    "    for _ in range(epochs):\n",
    "        nodes = jnp.array(list(graph.nodes), dtype=jnp.int32)\n",
    "        nodes = jax.random.permutation(rng_key, nodes)\n",
    "        node_loader = generate_batches(nodes, batch_size)\n",
    "        n_batches = int(number_of_nodes / batch_size)\n",
    "        batch_walk = 0\n",
    "        for n in tqdm(node_loader, total=n_batches):\n",
    "            walk, batch_walk , rng_key = gen_batch_random_walk(batch_walk, graph, n, walk_length, walks_per_vertex, rng_key)\n",
    "            batch_negative_sample , rng_key = gen_batch_negative_samples(\n",
    "                amount=num_neg * walks_per_vertex, \n",
    "                length=walk_length, \n",
    "                initial_nodes=n, \n",
    "                number_of_nodes=number_of_nodes,\n",
    "                rng_key = rng_key\n",
    "            )\n",
    "\n",
    "            embedding, opt_state, loss = update(embedding, opt_state, batch_walk, windows)\n",
    "            loss_history['total'].append(loss)\n",
    "            print(loss_history['total'][-1])\n",
    "\n",
    "    return embedding, loss_history\n"
   ]
  },
  {
   "cell_type": "code",
   "execution_count": null,
   "id": "d6d17aa8",
   "metadata": {},
   "outputs": [
    {
     "name": "stderr",
     "output_type": "stream",
     "text": [
      "  2%|▎         | 1/40 [00:09<06:28,  9.97s/it]"
     ]
    },
    {
     "name": "stdout",
     "output_type": "stream",
     "text": [
      "8.603537\n"
     ]
    },
    {
     "name": "stderr",
     "output_type": "stream",
     "text": [
      "  5%|▌         | 2/40 [00:20<06:35, 10.40s/it]"
     ]
    },
    {
     "name": "stdout",
     "output_type": "stream",
     "text": [
      "9.006628\n"
     ]
    },
    {
     "name": "stderr",
     "output_type": "stream",
     "text": [
      "  8%|▊         | 3/40 [00:29<06:03,  9.81s/it]"
     ]
    },
    {
     "name": "stdout",
     "output_type": "stream",
     "text": [
      "8.740193\n"
     ]
    },
    {
     "name": "stderr",
     "output_type": "stream",
     "text": [
      " 10%|█         | 4/40 [00:37<05:22,  8.95s/it]"
     ]
    },
    {
     "name": "stdout",
     "output_type": "stream",
     "text": [
      "9.136781\n"
     ]
    },
    {
     "name": "stderr",
     "output_type": "stream",
     "text": [
      " 12%|█▎        | 5/40 [00:45<04:57,  8.50s/it]"
     ]
    },
    {
     "name": "stdout",
     "output_type": "stream",
     "text": [
      "9.134063\n"
     ]
    },
    {
     "name": "stderr",
     "output_type": "stream",
     "text": [
      " 15%|█▌        | 6/40 [00:57<05:32,  9.78s/it]"
     ]
    },
    {
     "name": "stdout",
     "output_type": "stream",
     "text": [
      "8.916544\n"
     ]
    },
    {
     "name": "stderr",
     "output_type": "stream",
     "text": [
      " 18%|█▊        | 7/40 [01:11<06:06, 11.10s/it]"
     ]
    },
    {
     "name": "stdout",
     "output_type": "stream",
     "text": [
      "9.042809\n"
     ]
    },
    {
     "name": "stderr",
     "output_type": "stream",
     "text": [
      " 20%|██        | 8/40 [01:23<06:04, 11.39s/it]"
     ]
    },
    {
     "name": "stdout",
     "output_type": "stream",
     "text": [
      "8.608324\n"
     ]
    },
    {
     "name": "stderr",
     "output_type": "stream",
     "text": [
      " 22%|██▎       | 9/40 [01:34<05:48, 11.23s/it]"
     ]
    },
    {
     "name": "stdout",
     "output_type": "stream",
     "text": [
      "9.828885\n"
     ]
    },
    {
     "name": "stderr",
     "output_type": "stream",
     "text": [
      " 25%|██▌       | 10/40 [01:46<05:51, 11.70s/it]"
     ]
    },
    {
     "name": "stdout",
     "output_type": "stream",
     "text": [
      "9.197929\n"
     ]
    },
    {
     "name": "stderr",
     "output_type": "stream",
     "text": [
      " 28%|██▊       | 11/40 [01:55<05:15, 10.87s/it]"
     ]
    },
    {
     "name": "stdout",
     "output_type": "stream",
     "text": [
      "9.046522\n"
     ]
    },
    {
     "name": "stderr",
     "output_type": "stream",
     "text": [
      " 30%|███       | 12/40 [02:03<04:38,  9.93s/it]"
     ]
    },
    {
     "name": "stdout",
     "output_type": "stream",
     "text": [
      "9.22105\n"
     ]
    },
    {
     "name": "stderr",
     "output_type": "stream",
     "text": [
      " 32%|███▎      | 13/40 [02:11<04:09,  9.25s/it]"
     ]
    },
    {
     "name": "stdout",
     "output_type": "stream",
     "text": [
      "9.068176\n"
     ]
    },
    {
     "name": "stderr",
     "output_type": "stream",
     "text": [
      " 35%|███▌      | 14/40 [02:18<03:47,  8.76s/it]"
     ]
    },
    {
     "name": "stdout",
     "output_type": "stream",
     "text": [
      "8.764362\n"
     ]
    },
    {
     "name": "stderr",
     "output_type": "stream",
     "text": [
      " 38%|███▊      | 15/40 [02:27<03:39,  8.79s/it]"
     ]
    },
    {
     "name": "stdout",
     "output_type": "stream",
     "text": [
      "9.310879\n"
     ]
    },
    {
     "name": "stderr",
     "output_type": "stream",
     "text": [
      " 40%|████      | 16/40 [02:41<04:07, 10.32s/it]"
     ]
    },
    {
     "name": "stdout",
     "output_type": "stream",
     "text": [
      "8.77195\n"
     ]
    },
    {
     "name": "stderr",
     "output_type": "stream",
     "text": [
      " 42%|████▎     | 17/40 [02:49<03:41,  9.62s/it]"
     ]
    },
    {
     "name": "stdout",
     "output_type": "stream",
     "text": [
      "8.622083\n"
     ]
    },
    {
     "name": "stderr",
     "output_type": "stream",
     "text": [
      " 45%|████▌     | 18/40 [02:57<03:18,  9.03s/it]"
     ]
    },
    {
     "name": "stdout",
     "output_type": "stream",
     "text": [
      "8.551861\n"
     ]
    },
    {
     "name": "stderr",
     "output_type": "stream",
     "text": [
      " 48%|████▊     | 19/40 [03:04<03:00,  8.60s/it]"
     ]
    },
    {
     "name": "stdout",
     "output_type": "stream",
     "text": [
      "8.176603\n"
     ]
    },
    {
     "name": "stderr",
     "output_type": "stream",
     "text": [
      " 50%|█████     | 20/40 [03:13<02:51,  8.55s/it]"
     ]
    },
    {
     "name": "stdout",
     "output_type": "stream",
     "text": [
      "9.464855\n"
     ]
    },
    {
     "name": "stderr",
     "output_type": "stream",
     "text": [
      " 52%|█████▎    | 21/40 [03:21<02:38,  8.32s/it]"
     ]
    },
    {
     "name": "stdout",
     "output_type": "stream",
     "text": [
      "7.831616\n"
     ]
    },
    {
     "name": "stderr",
     "output_type": "stream",
     "text": [
      " 55%|█████▌    | 22/40 [03:28<02:26,  8.15s/it]"
     ]
    },
    {
     "name": "stdout",
     "output_type": "stream",
     "text": [
      "9.729718\n"
     ]
    },
    {
     "name": "stderr",
     "output_type": "stream",
     "text": [
      " 57%|█████▊    | 23/40 [03:36<02:15,  7.99s/it]"
     ]
    },
    {
     "name": "stdout",
     "output_type": "stream",
     "text": [
      "9.454603\n"
     ]
    },
    {
     "name": "stderr",
     "output_type": "stream",
     "text": [
      " 60%|██████    | 24/40 [03:44<02:08,  8.04s/it]"
     ]
    },
    {
     "name": "stdout",
     "output_type": "stream",
     "text": [
      "9.109565\n"
     ]
    },
    {
     "name": "stderr",
     "output_type": "stream",
     "text": [
      " 62%|██████▎   | 25/40 [03:52<01:58,  7.93s/it]"
     ]
    },
    {
     "name": "stdout",
     "output_type": "stream",
     "text": [
      "9.694206\n"
     ]
    },
    {
     "name": "stderr",
     "output_type": "stream",
     "text": [
      " 65%|██████▌   | 26/40 [03:59<01:49,  7.82s/it]"
     ]
    },
    {
     "name": "stdout",
     "output_type": "stream",
     "text": [
      "8.481419\n"
     ]
    },
    {
     "name": "stderr",
     "output_type": "stream",
     "text": [
      " 68%|██████▊   | 27/40 [04:07<01:41,  7.81s/it]"
     ]
    },
    {
     "name": "stdout",
     "output_type": "stream",
     "text": [
      "8.555294\n"
     ]
    },
    {
     "name": "stderr",
     "output_type": "stream",
     "text": [
      " 70%|███████   | 28/40 [04:15<01:33,  7.78s/it]"
     ]
    },
    {
     "name": "stdout",
     "output_type": "stream",
     "text": [
      "8.92296\n"
     ]
    },
    {
     "name": "stderr",
     "output_type": "stream",
     "text": [
      " 72%|███████▎  | 29/40 [04:22<01:24,  7.71s/it]"
     ]
    },
    {
     "name": "stdout",
     "output_type": "stream",
     "text": [
      "8.980722\n"
     ]
    },
    {
     "name": "stderr",
     "output_type": "stream",
     "text": [
      " 75%|███████▌  | 30/40 [04:30<01:16,  7.68s/it]"
     ]
    },
    {
     "name": "stdout",
     "output_type": "stream",
     "text": [
      "9.1042385\n"
     ]
    },
    {
     "name": "stderr",
     "output_type": "stream",
     "text": [
      " 78%|███████▊  | 31/40 [04:38<01:09,  7.67s/it]"
     ]
    },
    {
     "name": "stdout",
     "output_type": "stream",
     "text": [
      "8.751317\n"
     ]
    },
    {
     "name": "stderr",
     "output_type": "stream",
     "text": [
      " 80%|████████  | 32/40 [04:46<01:03,  7.93s/it]"
     ]
    },
    {
     "name": "stdout",
     "output_type": "stream",
     "text": [
      "8.542926\n"
     ]
    },
    {
     "name": "stderr",
     "output_type": "stream",
     "text": [
      " 82%|████████▎ | 33/40 [04:54<00:54,  7.85s/it]"
     ]
    },
    {
     "name": "stdout",
     "output_type": "stream",
     "text": [
      "9.545682\n"
     ]
    },
    {
     "name": "stderr",
     "output_type": "stream",
     "text": [
      " 85%|████████▌ | 34/40 [05:02<00:46,  7.81s/it]"
     ]
    },
    {
     "name": "stdout",
     "output_type": "stream",
     "text": [
      "8.396461\n"
     ]
    },
    {
     "name": "stderr",
     "output_type": "stream",
     "text": [
      " 88%|████████▊ | 35/40 [05:10<00:39,  7.90s/it]"
     ]
    },
    {
     "name": "stdout",
     "output_type": "stream",
     "text": [
      "9.5626135\n"
     ]
    },
    {
     "name": "stderr",
     "output_type": "stream",
     "text": [
      " 90%|█████████ | 36/40 [05:18<00:31,  7.87s/it]"
     ]
    },
    {
     "name": "stdout",
     "output_type": "stream",
     "text": [
      "8.836658\n"
     ]
    },
    {
     "name": "stderr",
     "output_type": "stream",
     "text": [
      " 92%|█████████▎| 37/40 [05:25<00:23,  7.84s/it]"
     ]
    },
    {
     "name": "stdout",
     "output_type": "stream",
     "text": [
      "9.063208\n"
     ]
    },
    {
     "name": "stderr",
     "output_type": "stream",
     "text": [
      " 95%|█████████▌| 38/40 [05:33<00:15,  7.84s/it]"
     ]
    },
    {
     "name": "stdout",
     "output_type": "stream",
     "text": [
      "9.413374\n"
     ]
    },
    {
     "name": "stderr",
     "output_type": "stream",
     "text": [
      " 98%|█████████▊| 39/40 [05:41<00:07,  7.91s/it]"
     ]
    },
    {
     "name": "stdout",
     "output_type": "stream",
     "text": [
      "9.2698145\n"
     ]
    },
    {
     "name": "stderr",
     "output_type": "stream",
     "text": [
      "100%|██████████| 40/40 [05:49<00:00,  7.88s/it]"
     ]
    },
    {
     "name": "stdout",
     "output_type": "stream",
     "text": [
      "8.934503\n"
     ]
    },
    {
     "name": "stderr",
     "output_type": "stream",
     "text": [
      "41it [05:51,  8.58s/it]                        "
     ]
    },
    {
     "name": "stdout",
     "output_type": "stream",
     "text": [
      "9.0179405\n",
      " "
     ]
    },
    {
     "name": "stderr",
     "output_type": "stream",
     "text": [
      "\n"
     ]
    },
    {
     "name": "stdout",
     "output_type": "stream",
     "text": [
      "         145703093 function calls (145656720 primitive calls) in 355.210 seconds\n",
      "\n",
      "   Ordered by: internal time\n",
      "\n",
      "   ncalls  tottime  percall  cumtime  percall filename:lineno(function)\n",
      "   394017   56.329    0.000   68.471    0.000 dispatch.py:79(apply_primitive)\n",
      "    20624   52.507    0.003   52.641    0.003 reductions.py:667(cumulative_reduction)\n",
      "    10312   12.601    0.001   12.671    0.001 reductions.py:222(sum)\n",
      "  4537824   11.434    0.000   24.877    0.000 dtypes.py:329(issubdtype)\n",
      "  2026607   11.177    0.000   27.618    0.000 dtypes.py:639(dtype)\n",
      "    52050   10.528    0.000   10.777    0.000 array_methods.py:259(deferring_binary_op)\n",
      "    72266   10.063    0.000   23.827    0.000 lax_numpy.py:885(squeeze)\n",
      "    10312    9.914    0.001  126.030    0.012 lax_numpy.py:1163(bincount)\n",
      " 15174010    8.296    0.000   11.855    0.000 dtypes.py:315(_issubclass)\n",
      "    10313    7.851    0.001    7.851    0.001 lax_numpy.py:1211(broadcast_arrays)\n",
      "    72266    7.251    0.000  178.475    0.002 scatter.py:88(_scatter_impl)\n",
      "  8567566    6.732    0.000    7.931    0.000 config.py:274(value)\n",
      "    72266    6.224    0.000  221.517    0.003 scatter.py:48(_scatter_update)\n",
      " 16572901    6.036    0.000   10.536    0.000 {built-in method builtins.isinstance}\n",
      "    72267    5.874    0.000   85.184    0.001 lax_numpy.py:4704(_index_to_gather)\n",
      "   589075    5.282    0.000   48.239    0.000 lax.py:518(_convert_element_type)\n",
      "    10312    5.167    0.001  202.519    0.020 lax_numpy.py:1396(nonzero)\n",
      "258132/247820    4.653    0.000   46.267    0.000 lax_numpy.py:2094(array)\n",
      " 17969161    3.943    0.000    3.943    0.000 {built-in method builtins.issubclass}\n",
      "  3104399    3.685    0.000    3.685    0.000 array.py:239(dtype)\n",
      "   411217    3.389    0.000    8.773    0.000 config.py:192(trace_context)\n",
      "    51561    3.145    0.000   27.066    0.001 lax_numpy.py:4343(_normalize_index)\n",
      "  1997940    2.776    0.000    2.776    0.000 array.py:235(shape)\n",
      "   596362    2.691    0.000    2.754    0.000 {built-in method jaxlib.xla_extension.flatten}\n",
      "  2146410    2.650    0.000    5.321    0.000 dtypes.py:239(canonicalize_dtype)\n",
      "   404329    2.232    0.000   11.525    0.000 util.py:282(wrapper)\n",
      "  1470194    2.156    0.000    2.156    0.000 dtypes.py:622(is_weakly_typed)\n",
      "    72266    2.013    0.000   13.906    0.000 util.py:411(_broadcast_to)\n",
      "  1713990    1.962    0.000    3.693    0.000 {built-in method _abc._abc_instancecheck}\n",
      "   289149    1.709    0.000   11.312    0.000 dtypes.py:662(_lattice_result_type)\n",
      "   568111    1.665    0.000    5.067    0.000 dtypes.py:719(check_user_dtype_supported)\n",
      "   447915    1.655    0.000    5.255    0.000 core.py:1333(find_top_trace)\n",
      "   416418    1.547    0.000   10.372    0.000 core.py:1466(concrete_aval)\n",
      "   411217    1.419    0.000    1.419    0.000 {built-in method jaxlib.xla_extension.jax_jit.thread_local_state}\n",
      "    10312    1.411    0.000  204.083    0.020 lax_numpy.py:1081(where)\n",
      "   209850    1.394    0.000    3.301    0.000 core.py:1718(__init__)\n",
      "  9245742    1.365    0.000    1.375    0.000 {method 'get' of 'dict' objects}\n",
      "447915/446726    1.348    0.000   80.244    0.000 core.py:422(bind_with_trace)\n",
      "446767/446726    1.335    0.000   75.698    0.000 core.py:912(process_primitive)\n",
      "259403/259321    1.321    0.000    7.146    0.000 tree_util.py:270(tree_map)\n",
      "    72186    1.318    0.000   16.767    0.000 lax.py:1352(expand_dims)\n",
      "   931717    1.308    0.000    2.388    0.000 numerictypes.py:357(issubdtype)\n",
      "    41248    1.303    0.000    1.497    0.000 prng.py:1151(threefry_split)\n",
      "2374393/2373778    1.288    0.000    3.397    0.000 {built-in method builtins.getattr}\n",
      "   154763    1.280    0.000    1.531    0.000 array.py:354(<genexpr>)\n",
      "   154969    1.279    0.000   27.962    0.000 lax.py:784(broadcast_in_dim)\n",
      "445619/445578    1.250    0.000   86.419    0.000 core.py:417(bind)\n",
      "  1035154    1.241    0.000    3.806    0.000 {built-in method builtins.any}\n",
      "   447956    1.159    0.000    1.867    0.000 core.py:957(with_cur_sublevel)\n",
      "   532955    1.155    0.000    1.789    0.000 {built-in method builtins.max}\n",
      "   392430    1.123    0.000    1.123    0.000 getlimits.py:685(__init__)\n",
      "  1497304    1.077    0.000    1.087    0.000 {built-in method _abc._abc_subclasscheck}\n",
      "    20624    1.071    0.000    1.655    0.000 random.py:448(randint)\n",
      "   788034    1.057    0.000    1.057    0.000 {built-in method jaxlib.xla_extension.jax_jit.swap_thread_local_state_disable_jit}\n",
      "    10312    1.006    0.000  268.506    0.026 3849884171.py:1(gen_random_walk_tensor)\n",
      "   371726    0.983    0.000    9.100    0.000 dtypes.py:472(_dtype_and_weaktype)\n",
      "  1033135    0.983    0.000    2.668    0.000 array.py:243(ndim)\n",
      "334171/334089    0.982    0.000    4.325    0.000 {built-in method jaxlib.xla_extension.pytree.unflatten}\n",
      "   209850    0.942    0.000    4.770    0.000 abstract_arrays.py:45(canonical_concrete_aval)\n",
      "   646566    0.929    0.000    1.399    0.000 core.py:513(full_raise)\n",
      "    41248    0.923    0.000    1.157    0.000 function_base.py:5172(delete)\n",
      "526907/526825    0.890    0.000    2.442    0.000 {jaxlib.utils.safe_map}\n",
      "   175837    0.853    0.000    2.519    0.000 dtypes.py:272(_scalar_type_to_dtype)\n",
      "   258131    0.847    0.000   47.140    0.000 lax_numpy.py:2218(asarray)\n",
      "  1713990    0.807    0.000    4.500    0.000 <frozen abc>:117(__instancecheck__)\n",
      "   420251    0.765    0.000    1.307    0.000 core.py:2104(canonicalize_shape)\n",
      "   279507    0.741    0.000    0.741    0.000 {built-in method numpy.asarray}\n",
      "   703478    0.737    0.000    7.122    0.000 {built-in method builtins.all}\n",
      "    72267    0.722    0.000    7.354    0.000 lax_numpy.py:4948(_expand_bool_indices)\n",
      "  2288427    0.696    0.000    1.227    0.000 {built-in method builtins.hasattr}\n",
      "  1863434    0.695    0.000    0.972    0.000 numerictypes.py:283(issubclass_)\n",
      "    72267    0.691    0.000    8.981    0.000 lax_numpy.py:4662(_split_index_for_jit)\n",
      "   123744    0.678    0.000    2.312    0.000 prng.py:121(_check_prng_key_data)\n",
      "    20624    0.646    0.000    0.648    0.000 lax_numpy.py:4252(take)\n",
      "  1497304    0.644    0.000    1.731    0.000 <frozen abc>:121(__subclasscheck__)\n",
      "   248104    0.630    0.000    0.630    0.000 {built-in method numpy.array}\n",
      "  3510372    0.615    0.000    0.615    0.000 {built-in method builtins.len}\n",
      "    41573    0.570    0.000    2.541    0.000 profiler.py:333(wrapper)\n",
      "   175837    0.543    0.000    7.433    0.000 abstract_arrays.py:65(_make_concrete_python_scalar)\n",
      "   530553    0.524    0.000    1.029    0.000 fromnumeric.py:1980(shape)\n",
      "   243945    0.513    0.000    1.294    0.000 core.py:1637(__init__)\n",
      "416705/416090    0.462    0.000   10.958    0.000 core.py:1476(get_aval)\n",
      "   568158    0.455    0.000    1.955    0.000 fromnumeric.py:3176(ndim)\n",
      "     1148    0.449    0.000    0.498    0.000 pjit.py:1388(_pjit_call_impl)\n",
      "   196098    0.438    0.000    2.143    0.000 util.py:324(check_arraylike)\n",
      "    31182    0.423    0.000   11.651    0.000 lax_numpy.py:2325(zeros)\n",
      "   660875    0.407    0.000    9.507    0.000 dtypes.py:663(<genexpr>)\n",
      "   337615    0.397    0.000    2.199    0.000 tree_util.py:63(tree_flatten)\n",
      "       41    0.393    0.010  289.336    7.057 771140867.py:1(gen_batch_random_walk)\n",
      "    31223    0.389    0.000    3.500    0.000 lax.py:767(broadcast)\n",
      "   449145    0.387    0.000    0.632    0.000 core.py:1334(<genexpr>)\n",
      "    72267    0.384    0.000   14.692    0.000 util.py:270(promote_dtypes)\n",
      "   447997    0.379    0.000    0.379    0.000 core.py:508(__init__)\n",
      "    10313    0.366    0.000    0.366    0.000 {built-in method jaxlib.xla_extension.batched_device_put}\n",
      "529117/528953    0.360    0.000    3.342    0.000 tree_util.py:312(<genexpr>)\n",
      "  2134920    0.355    0.000    0.355    0.000 multiarray.py:669(result_type)\n",
      "1055394/1024377    0.354    0.000    2.308    0.000 {built-in method _operator.index}\n",
      "  1486904    0.351    0.000    0.351    0.000 dtypes.py:474(<genexpr>)\n",
      "    82660    0.344    0.000    0.876    0.000 lax_numpy.py:5043(_preprocess_slice)\n",
      "    72186    0.343    0.000    1.482    0.000 random.py:74(_check_prng_key)\n",
      "   258173    0.336    0.000    1.286    0.000 tree_util.py:128(tree_leaves)\n",
      "   516685    0.335    0.000    2.128    0.000 core.py:1965(is_constant_dim)\n",
      "    61954    0.334    0.000    6.549    0.000 slicing.py:638(scatter)\n",
      "    82622    0.333    0.000    0.661    0.000 api_util.py:52(_ensure_index_tuple)\n",
      "   447997    0.328    0.000    0.328    0.000 core.py:1083(cur_sublevel)\n",
      "   114063    0.327    0.000    0.327    0.000 {method 'astype' of 'numpy.ndarray' objects}\n",
      "    72267    0.319    0.000    0.534    0.000 lax_numpy.py:4689(_merge_static_and_dynamic_indices)\n",
      "   361579    0.315    0.000    0.505    0.000 core.py:1355(definitely_equal)\n",
      "        1    0.315    0.315    0.317    0.317 setops.py:253(_unique)\n",
      "    10312    0.312    0.000    6.764    0.001 random.py:614(choice)\n",
      "    62217    0.311    0.000    2.030    0.000 lax.py:4916(_const)\n",
      "    10313    0.311    0.000    0.424    0.000 function_base.py:1324(diff)\n",
      "    41592    0.311    0.000    0.638    0.000 dtypes.py:252(scalar_type_of)\n",
      "   449022    0.305    0.000    0.694    0.000 core.py:1323(full_lower)\n",
      "   243945    0.305    0.000    0.417    0.000 core.py:1562(_dtype_object)\n",
      "   185824    0.304    0.000    0.314    0.000 {built-in method builtins.sorted}\n",
      "       41    0.298    0.007   60.330    1.471 1863151764.py:1(gen_batch_negative_samples)\n",
      "    41532    0.287    0.000    1.029    0.000 array.py:598(_value)\n",
      "    10312    0.284    0.000   41.664    0.004 700704861.py:1(gen_negative_samples)\n",
      "    61954    0.283    0.000  113.044    0.002 array_methods.py:481(set)\n",
      "   113515    0.279    0.000    3.172    0.000 lax_numpy.py:4939(_is_boolean_index)\n",
      "    10313    0.263    0.000    2.219    0.000 dispatch.py:383(_device_put_impl)\n",
      "   412818    0.260    0.000    1.409    0.000 util.py:327(<genexpr>)\n",
      "   123744    0.260    0.000    2.645    0.000 prng.py:156(__init__)\n",
      "   495638    0.258    0.000    1.106    0.000 lax_numpy.py:2169(<genexpr>)\n",
      "    72267    0.256    0.000    0.623    0.000 lax_numpy.py:5023(_canonicalize_tuple_index)\n",
      "   216720    0.256    0.000    1.149    0.000 util.py:319(_arraylike)\n",
      "144580/144579    0.256    0.000    0.557    0.000 core.py:1501(concrete_or_error)\n",
      "    31223    0.244    0.000    9.634    0.000 lax.py:1205(full)\n",
      "    41331    0.234    0.000    0.773    0.000 array.py:348(__iter__)\n",
      "   206488    0.229    0.000    1.252    0.000 lax_numpy.py:5006(<genexpr>)\n",
      "    30936    0.228    0.000    0.592    0.000 lax.py:1344(squeeze)\n",
      "   288739    0.227    0.000    2.584    0.000 lax_numpy.py:315(issubdtype)\n",
      "   154682    0.223    0.000    0.318    0.000 prng.py:185(dtype)\n",
      "   196215    0.223    0.000    0.223    0.000 getlimits.py:696(min)\n",
      "   494976    0.219    0.000    0.980    0.000 prng.py:123(<genexpr>)\n",
      "    41248    0.219    0.000    5.023    0.000 random.py:272(_split)\n",
      "   154682    0.213    0.000    0.655    0.000 prng.py:173(shape)\n",
      "    10312    0.212    0.000  108.968    0.011 array_methods.py:517(add)\n",
      "    10312    0.206    0.000    0.560    0.000 function_base.py:5368(insert)\n",
      "   146381    0.201    0.000    0.403    0.000 {built-in method builtins.sum}\n",
      "    72267    0.196    0.000    9.398    0.000 util.py:278(<listcomp>)\n",
      "   258130    0.192    0.000    0.259    0.000 lax_numpy.py:2141(<lambda>)\n",
      "    10312    0.187    0.000    0.365    0.000 array_methods.py:109(_compute_newshape)\n",
      "   330640    0.182    0.000    2.858    0.000 lax_numpy.py:4833(<genexpr>)\n",
      "   123744    0.180    0.000    3.007    0.000 prng.py:257(<genexpr>)\n",
      "    41248    0.180    0.000    3.170    0.000 prng.py:641(random_split_impl)\n",
      "    41248    0.176    0.000    6.610    0.000 random.py:283(split)\n",
      "   223450    0.173    0.000    0.173    0.000 {built-in method __new__ of type object at 0x00007FFF8B45A4B0}\n",
      "   154682    0.169    0.000    0.198    0.000 prng.py:316(base_arr_shape_to_keys_shape)\n",
      "   247980    0.167    0.000    2.676    0.000 lax_numpy.py:4992(_is_slice_element_none_or_constant_or_symbolic)\n",
      "   206488    0.166    0.000    0.302    0.000 lax_numpy.py:4756(<genexpr>)\n",
      "    10312    0.165    0.000   17.591    0.002 slicing.py:383(scatter_add)\n",
      "   154682    0.163    0.000    0.838    0.000 prng.py:181(ndim)\n",
      "   249515    0.162    0.000    0.545    0.000 core.py:2085(_canonicalize_dimension)\n",
      "    20624    0.160    0.000    1.024    0.000 lax_numpy.py:1419(<genexpr>)\n",
      "    72267    0.159    0.000    1.704    0.000 lax_numpy.py:5002(_is_advanced_int_indexer)\n",
      "    10312    0.156    0.000    0.156    0.000 {method 'cumprod' of 'numpy.ndarray' objects}\n",
      "    72266    0.153    0.000   14.059    0.000 lax_numpy.py:1218(broadcast_to)\n",
      "    72266    0.149    0.000    0.191    0.000 array_methods.py:442(__getitem__)\n",
      "   757366    0.148    0.000    0.148    0.000 {method 'append' of 'list' objects}\n",
      "    10313    0.147    0.000    0.147    0.000 {method 'reduce' of 'numpy.ufunc' objects}\n",
      "    82824    0.143    0.000    0.298    0.000 core.py:1983(definitely_equal_shape)\n",
      "    72530    0.142    0.000    0.142    0.000 dtypes.py:628(is_python_scalar)\n",
      "    31182    0.139    0.000    0.308    0.000 lax_numpy.py:223(_jnp_dtype)\n",
      "    10313    0.137    0.000    3.229    0.000 api.py:2502(device_put)\n",
      "   505949    0.137    0.000    0.137    0.000 lax_numpy.py:2144(<genexpr>)\n",
      "    10312    0.134    0.000    1.304    0.000 lax.py:819(reshape)\n",
      "    30936    0.134    0.000    0.134    0.000 {built-in method numpy.arange}\n",
      "    82501    0.134    0.000    0.153    0.000 util.py:351(canonicalize_axis)\n",
      "    10313    0.134    0.000    1.121    0.000 pxla.py:148(_shard_array)\n",
      "    31098    0.132    0.000    1.993    0.000 array.py:292(__index__)\n",
      "    41248    0.131    0.000    0.408    0.000 random.py:115(_return_prng_keys)\n",
      "   113639    0.130    0.000    1.521    0.000 lax_numpy.py:130(_dtype)\n",
      "   568158    0.129    0.000    0.129    0.000 fromnumeric.py:3172(_ndim_dispatcher)\n",
      "    62158    0.128    0.000    0.233    0.000 array.py:362(is_fully_replicated)\n",
      "    61874    0.128    0.000    0.188    0.000 numeric.py:1855(isscalar)\n",
      "    72268    0.127    0.000    0.485    0.000 core.py:2028(is_empty_shape)\n",
      "    41455    0.127    0.000    0.127    0.000 sharding_impls.py:439(device_set)\n",
      "    72267    0.121    0.000    0.167    0.000 slicing.py:272(from_any)\n",
      "   103737    0.119    0.000    0.119    0.000 array.py:251(sharding)\n",
      "    61872    0.118    0.000    1.976    0.000 core.py:1973(is_dim)\n",
      "    82660    0.118    0.000    0.265    0.000 core.py:2064(max_dim)\n",
      "   530553    0.118    0.000    0.118    0.000 fromnumeric.py:1976(_shape_dispatcher)\n",
      "   185782    0.117    0.000    0.139    0.000 lax_numpy.py:5025(<genexpr>)\n",
      "    82882    0.116    0.000   12.454    0.000 lax.py:501(convert_element_type)\n",
      "    72266    0.116    0.000    2.360    0.000 dtypes.py:741(safe_to_cast)\n",
      "    72186    0.114    0.000    0.243    0.000 lax.py:1357(<listcomp>)\n",
      "    41455    0.113    0.000    0.277    0.000 dispatch.py:159(is_single_device_sharding)\n",
      "   196215    0.112    0.000    0.112    0.000 getlimits.py:709(max)\n",
      "    10313    0.111    0.000    1.667    0.000 dispatch.py:324(_put_x)\n",
      "    10312    0.111    0.000    0.300    0.000 numeric.py:1393(moveaxis)\n",
      "   230476    0.111    0.000    0.111    0.000 dtypes.py:634(check_valid_dtype)\n",
      "    51561    0.107    0.000    0.366    0.000 lax_numpy.py:5018(_is_scalar)\n",
      "    10313    0.107    0.000    0.107    0.000 {built-in method }\n",
      "    31098    0.107    0.000    0.618    0.000 core.py:646(check_integer_conversion)\n",
      "   165243    0.101    0.000    0.249    0.000 core.py:2029(<genexpr>)\n",
      "    20624    0.098    0.000    0.141    0.000 numeric.py:1330(normalize_axis_tuple)\n",
      "    72267    0.097    0.000    0.126    0.000 enum.py:1224(__hash__)\n",
      "   644188    0.097    0.000    0.097    0.000 core.py:909(pure)\n",
      "    41248    0.097    0.000    1.084    0.000 prng.py:245(__iter__)\n",
      "    10312    0.096    0.000    0.330    0.000 fromnumeric.py:40(_wrapit)\n",
      "    20624    0.095    0.000    0.484    0.000 array_methods.py:74(_item)\n",
      "   538522    0.094    0.000    0.094    0.000 typing.py:2256(cast)\n",
      "   154682    0.094    0.000    0.094    0.000 prng.py:504(__init__)\n",
      "    20626    0.094    0.000    0.147    0.000 sharding_impls.py:431(__eq__)\n",
      "    20626    0.092    0.000   27.063    0.001 lax_numpy.py:4741(<genexpr>)\n",
      "    51560    0.092    0.000    0.092    0.000 {built-in method numpy.empty}\n",
      "103881/103512    0.091    0.000    0.284    0.000 {built-in method builtins.next}\n",
      "    41248    0.090    0.000    1.724    0.000 prng.py:647(random_split_impl_base)\n",
      "    10312    0.090    0.000    2.008    0.000 lax_numpy.py:4889(<listcomp>)\n",
      "    10313    0.088    0.000    0.088    0.000 {built-in method numpy.asanyarray}\n",
      "   185782    0.086    0.000    0.109    0.000 lax_numpy.py:4669(<genexpr>)\n",
      "    72267    0.084    0.000    0.104    0.000 lax_numpy.py:4711(<listcomp>)\n",
      "    31182    0.084    0.000    0.613    0.000 lax_numpy.py:81(canonicalize_shape)\n",
      "    10313    0.084    0.000    0.521    0.000 pxla.py:162(batched_device_put)\n",
      "    31018    0.083    0.000    0.205    0.000 reductions.py:190(_ensure_optional_axes)\n",
      "    61872    0.081    0.000    2.057    0.000 core.py:1513(concrete_dim_or_error)\n",
      "    41248    0.079    0.000    4.354    0.000 prng.py:630(random_split)\n",
      "    72267    0.079    0.000    0.171    0.000 lax_numpy.py:4916(_eliminate_deprecated_list_indexing)\n",
      "    10313    0.079    0.000    0.249    0.000 fromnumeric.py:71(_wrapreduction)\n",
      "    41248    0.078    0.000    0.078    0.000 prng.py:550(iterated_vmap_unary)\n",
      "    51724    0.075    0.000    0.161    0.000 core.py:2054(min_dim)\n",
      "        1    0.074    0.074  355.963  355.963 3313065722.py:10(deepWalk)\n",
      "    41656    0.074    0.000    0.074    0.000 {built-in method ArrayImpl.}\n",
      "   114211    0.074    0.000    0.106    0.000 core.py:1957(is_symbolic_dim)\n",
      "   259403    0.073    0.000    0.073    0.000 tree_util.py:311(<listcomp>)\n",
      "    20626    0.073    0.000    0.116    0.000 config.py:1417(explicit_device_put_scope)\n",
      "    20626    0.067    0.000    0.097    0.000 sharding_impls.py:426(__hash__)\n",
      "   163378    0.066    0.000    0.066    0.000 {built-in method builtins.hash}\n",
      "    41248    0.066    0.000    0.166    0.000 prng.py:236(_is_scalar)\n",
      "    72267    0.066    0.000    0.066    0.000 lax_numpy.py:5030(<genexpr>)\n",
      "    41412    0.066    0.000    0.153    0.000 array.py:247(size)\n",
      "    85198    0.066    0.000    0.066    0.000 {jaxlib.utils.safe_zip}\n",
      "    51724    0.063    0.000    0.224    0.000 lax_numpy.py:5069(clamp_index)\n",
      "   258131    0.062    0.000    0.062    0.000 lax_numpy.py:2143(<lambda>)\n",
      "   185782    0.062    0.000    0.062    0.000 lax_numpy.py:4952(<genexpr>)\n",
      "    82925    0.060    0.000    0.251    0.000 array_methods.py:338(_chunk_iter)\n",
      "    41248    0.060    0.000    0.492    0.000 lax_numpy.py:4701(_int)\n",
      "    41248    0.059    0.000    1.556    0.000 prng.py:648(<lambda>)\n",
      "    10312    0.058    0.000    1.729    0.000 array_methods.py:142(_reshape)\n",
      "        1    0.057    0.057    2.462    2.462 lax_numpy.py:1816(stack)\n",
      "    10313    0.056    0.000    0.229    0.000 array.py:929(_array_global_result_handler)\n",
      "    55127    0.056    0.000    0.827    0.000 {built-in method builtins.iter}\n",
      "    10313    0.056    0.000    0.305    0.000 fromnumeric.py:2421(all)\n",
      "    10312    0.055    0.000    0.391    0.000 fromnumeric.py:53(_wrapfunc)\n",
      "    51565    0.055    0.000    0.055    0.000 sharding_impls.py:443(memory_kind)\n",
      "    10313    0.050    0.000    0.161    0.000 xla.py:192(_make_shaped_array_for_numpy_array)\n",
      "    10393    0.050    0.000    0.512    0.000 array.py:268(__bool__)\n",
      "    72186    0.049    0.000    0.049    0.000 lax.py:1364(<listcomp>)\n",
      "    20626    0.048    0.000    1.947    0.000 lax_numpy.py:4737(<genexpr>)\n",
      "    10313    0.048    0.000    0.218    0.000 sharding.py:129(addressable_devices_indices_map)\n",
      "    62613    0.048    0.000    0.063    0.000 lax_numpy.py:142(__hash__)\n",
      "    31182    0.048    0.000    0.065    0.000 lax_numpy.py:2284(_normalize_to_sharding)\n",
      "    13797    0.046    0.000    0.137    0.000 core.py:1930(raise_to_shaped)\n",
      "    41656    0.046    0.000    0.120    0.000 array.py:567(_check_if_deleted)\n",
      "    72266    0.045    0.000    0.045    0.000 array_methods.py:439(__init__)\n",
      "    10313    0.045    0.000    2.601    0.000 api.py:2536(<lambda>)\n",
      "    10313    0.043    0.000    0.043    0.000 {built-in method jaxlib.xla_extension.transfer_guard_lib.thread_local_state}\n",
      "    11002    0.043    0.000    0.894    0.000 lax.py:601(concatenate)\n",
      "    72266    0.042    0.000    0.042    0.000 array_methods.py:458(__init__)\n",
      "    10312    0.042    0.000    0.433    0.000 fromnumeric.py:3108(cumprod)\n",
      "    20875    0.041    0.000    0.052    0.000 <frozen importlib._bootstrap>:1207(_handle_fromlist)\n",
      "    13592    0.040    0.000    0.055    0.000 core.py:1670(__hash__)\n",
      "    10312    0.039    0.000    0.588    0.000 lax.py:5008(_abstractify)\n",
      "    10313    0.039    0.000    0.124    0.000 api_util.py:594(_numpy_array_abstractify)\n",
      "    62036    0.039    0.000    0.039    0.000 {built-in method math.prod}\n",
      "    10313    0.039    0.000    1.304    0.000 pxla.py:111(shard_arg)\n",
      "    11051    0.038    0.000    0.045    0.000 contextlib.py:104(__init__)\n",
      "    10313    0.038    0.000    0.053    0.000 pxla.py:1681(_get_default_device)\n",
      "    20626    0.037    0.000    1.227    0.000 lax_numpy.py:4793(<genexpr>)\n",
      "      400    0.037    0.000    0.037    0.000 {method 'acquire' of '_thread.lock' objects}\n",
      "    61872    0.036    0.000    0.036    0.000 {method 'item' of 'numpy.ndarray' objects}\n",
      "    11051    0.036    0.000    0.078    0.000 contextlib.py:141(__exit__)\n",
      "    51724    0.034    0.000    0.043    0.000 lax_numpy.py:5051(convert_to_index)\n",
      "    11051    0.033    0.000    0.078    0.000 contextlib.py:287(helper)\n",
      "    82497    0.032    0.000    0.032    0.000 {method 'insert' of 'list' objects}\n",
      "    51725    0.031    0.000    0.031    0.000 {built-in method builtins.min}\n",
      "    10313    0.031    0.000    1.314    0.000 lax_numpy.py:901(expand_dims)\n",
      "    10354    0.030    0.000    7.855    0.001 lax.py:417(add)\n",
      "    10394    0.030    0.000    8.990    0.001 lax.py:905(select)\n",
      "    10313    0.029    0.000    0.197    0.000 xla.py:170(abstractify)\n",
      "      574    0.028    0.000    0.220    0.000 pjit.py:407(common_infer_params)\n",
      "      574    0.028    0.000    0.292    0.001 pjit.py:1771(_pjit_partial_eval)\n",
      "    10313    0.026    0.000    0.087    0.000 lax_numpy.py:319(isscalar)\n",
      "    10313    0.026    0.000    0.026    0.000 pxla.py:154(<listcomp>)\n",
      "    31182    0.026    0.000    0.037    0.000 lax_numpy.py:2354(_check_forgot_shape_tuple)\n",
      "    13220    0.025    0.000    0.025    0.000 core.py:1664(__eq__)\n",
      "    10312    0.025    0.000    0.045    0.000 lax.py:184(_extract_tracers_dyn_shape)\n",
      "     1148    0.024    0.000    0.092    0.000 ad.py:190(write_cotangent)\n",
      "    30937    0.024    0.000    0.024    0.000 {built-in method numpy.core._multiarray_umath.normalize_axis_index}\n",
      "    10313    0.024    0.000    0.144    0.000 xla.py:137(canonicalize_dtype)\n",
      "    10313    0.023    0.000    0.252    0.000 pxla.py:226(global_aval_to_result_handler)\n",
      "    10313    0.022    0.000    0.155    0.000 lax_numpy.py:5012(_is_int_arraylike)\n",
      "    20624    0.022    0.000    0.032    0.000 numeric.py:1380(<listcomp>)\n",
      "    12608    0.022    0.000    0.081    0.000 core.py:1945(<lambda>)\n",
      "       41    0.021    0.001    0.777    0.019 ad.py:147(unbound_vjp)\n",
      "    11133    0.020    0.000    0.184    0.000 api_util.py:582(shaped_abstractify)\n",
      "    20626    0.020    0.000    0.177    0.000 lax_numpy.py:5009(<genexpr>)\n",
      "    10313    0.020    0.000    0.115    0.000 xla.py:153(_canonicalize_ndarray_dtype)\n",
      "    10393    0.019    0.000    0.079    0.000 core.py:651(check_bool_conversion)\n",
      "    10313    0.019    0.000    0.025    0.000 api.py:2479(_infer_src_sharding)\n",
      "    10313    0.018    0.000    0.033    0.000 pxla.py:167(<listcomp>)\n",
      "    62158    0.018    0.000    0.018    0.000 sharding_impls.py:460(is_fully_replicated)\n",
      "    10313    0.017    0.000    0.017    0.000 fromnumeric.py:72(<dictcomp>)\n",
      "     2296    0.017    0.000    0.056    0.000 core.py:2700(subst_axis_names_jaxpr)\n",
      "    20624    0.017    0.000    0.074    0.000 dtypes.py:302(coerce_to_array)\n",
      "    11051    0.017    0.000    0.124    0.000 contextlib.py:132(__enter__)\n",
      "    10313    0.014    0.000    0.021    0.000 api.py:2493(_check_sharding)\n",
      "       41    0.014    0.000    0.756    0.018 ad.py:185(backward_pass)\n",
      "    52201    0.013    0.000    0.013    0.000 {built-in method builtins.id}\n",
      "    27719    0.013    0.000    0.013    0.000 {method 'items' of 'dict' objects}\n",
      "      574    0.013    0.000    0.606    0.001 pjit.py:1909(_pjit_transpose)\n",
      "    10312    0.013    0.000    0.048    0.000 fromnumeric.py:3218(size)\n",
      "    10312    0.013    0.000    0.013    0.000 {method 'transpose' of 'numpy.ndarray' objects}\n",
      "    82625    0.013    0.000    0.013    0.000 core.py:1504(<lambda>)\n",
      "   615/41    0.012    0.000    1.770    0.043 traceback_util.py:175(reraise_with_filtered_traceback)\n",
      "    41248    0.012    0.000    0.012    0.000 function_base.py:5168(_delete_dispatcher)\n",
      "    20626    0.011    0.000    0.011    0.000 prng.py:297(prngkeyarray_flatten)\n",
      "    30936    0.011    0.000    0.011    0.000 util.py:424(<genexpr>)\n",
      "      574    0.011    0.000    0.383    0.001 pjit.py:1732(_pjit_jvp)\n",
      "        1    0.011    0.011    1.344    1.344 lax_numpy.py:2180(<listcomp>)\n",
      "    30936    0.010    0.000    0.010    0.000 lax.py:1347(<genexpr>)\n",
      "    10312    0.010    0.000    0.010    0.000 <frozen _collections_abc>:315(__subclasshook__)\n",
      "     2296    0.010    0.000    0.079    0.000 core.py:2630(subst_axis_names)\n",
      "        1    0.010    0.010    0.010    0.010 random.py:691(normal)\n",
      "      574    0.009    0.000    0.013    0.000 inspect.py:3076(_bind)\n",
      "    10313    0.009    0.000    0.009    0.000 lax_numpy.py:4736(<listcomp>)\n",
      "     2296    0.009    0.000    0.013    0.000 core.py:2641(<listcomp>)\n",
      "    30937    0.009    0.000    0.009    0.000 multiarray.py:346(where)\n",
      "2296/1148    0.009    0.000    0.905    0.001 core.py:2721(bind)\n",
      "        1    0.008    0.008    0.008    0.008 random.py:555(permutation)\n",
      "    31018    0.008    0.000    0.008    0.000 reductions.py:191(force)\n",
      "     3444    0.008    0.000    0.008    0.000 util.py:446(__eq__)\n",
      "     4592    0.007    0.000    0.013    0.000 pjit.py:1785(keep_where)\n",
      "     1148    0.007    0.000    0.062    0.000 linear_util.py:336(memoized_fun)\n",
      "    30936    0.007    0.000    0.007    0.000 util.py:429(<genexpr>)\n",
      "    32047    0.007    0.000    0.007    0.000 {method 'extend' of 'list' objects}\n",
      "      574    0.006    0.000    0.048    0.000 pjit.py:1148(_pjit_jaxpr)\n",
      "      574    0.006    0.000    0.228    0.000 api.py:312(infer_params)\n",
      "      574    0.006    0.000    0.032    0.000 api_util.py:645(_arg_names)\n",
      "    10313    0.006    0.000    0.006    0.000 {method 'values' of 'dict' objects}\n",
      "      574    0.006    0.000    0.014    0.000 partial_eval.py:1474(_jaxpr_forwarding)\n",
      "    10312    0.006    0.000    0.006    0.000 numeric.py:1455(<listcomp>)\n",
      "      574    0.006    0.000    0.694    0.001 pjit.py:134(_python_pjit_helper)\n",
      "       41    0.006    0.000    0.884    0.022 3313065722.py:19(loss_fn)\n",
      "     1148    0.006    0.000    0.006    0.000 {built-in method jaxlib.xla_extension.pjit}\n",
      "     2296    0.005    0.000    0.086    0.000 core.py:2625(used_axis_names)\n",
      "     2296    0.005    0.000    0.013    0.000 pjit.py:806(hashable_pytree)\n",
      "     2296    0.005    0.000    0.006    0.000 util.py:125(split_list)\n",
      "      574    0.005    0.000    0.016    0.000 ad.py:686(jvp_jaxpr)\n",
      "       41    0.005    0.000    0.039    0.001 partial_eval.py:910(tracers_to_jaxpr)\n",
      "     3280    0.005    0.000    0.006    0.000 linear_util.py:167(wrap)\n",
      "      344    0.005    0.000    0.078    0.000 slicing.py:2569(_dynamic_slice_indices)\n",
      "     2870    0.005    0.000    0.008    0.000 core.py:249(out_avals)\n",
      "    10312    0.004    0.000    0.004    0.000 array_methods.py:117(<listcomp>)\n",
      "     1148    0.004    0.000    0.021    0.000 pjit.py:377(_pjit_explicit_sharding)\n",
      "       41    0.004    0.000    0.015    0.000 util.py:210(toposort)\n",
      "      574    0.004    0.000    0.014    0.000 partial_eval.py:1633(move_binders_to_front)\n",
      "     1148    0.004    0.000    0.007    0.000 linear_util.py:172(populate_stores)\n",
      "      574    0.004    0.000    0.392    0.001 ad.py:313(process_primitive)\n",
      "      574    0.004    0.000    0.013    0.000 partial_eval.py:1032(partial_eval_jaxpr_nounits)\n",
      "      574    0.004    0.000    0.004    0.000 {built-in method jaxlib.xla_extension.get_traceback}\n",
      "     1804    0.004    0.000    0.008    0.000 linear_util.py:248(transformation_with_aux)\n",
      "    10312    0.004    0.000    0.004    0.000 fromnumeric.py:3104(_cumprod_dispatcher)\n",
      "      344    0.004    0.000    0.132    0.000 slicing.py:840(dynamic_slice_in_dim)\n",
      "     1722    0.003    0.000    0.006    0.000 pjit.py:1912(prune_type)\n",
      "     1968    0.003    0.000    0.005    0.000 partial_eval.py:679(__init__)\n",
      "    10168    0.003    0.000    0.003    0.000 pjit.py:1786(<genexpr>)\n",
      "      574    0.003    0.000    0.295    0.001 partial_eval.py:210(process_primitive)\n",
      "      574    0.003    0.000    0.706    0.001 pjit.py:246(cache_miss)\n",
      "      574    0.003    0.000    0.013    0.000 partial_eval.py:1504(prune_closed_jaxpr_outputs)\n",
      "    10312    0.003    0.000    0.003    0.000 array_methods.py:134(<genexpr>)\n",
      "      124    0.003    0.000    0.037    0.000 lax_numpy.py:4489(_attempt_rewriting_take_via_slice)\n",
      "      615    0.003    0.000    0.005    0.000 util.py:141(merge_lists)\n",
      "        1    0.003    0.003    1.013    1.013 lax_numpy.py:1869(concatenate)\n",
      "    10313    0.003    0.000    0.003    0.000 fromnumeric.py:2416(_all_dispatcher)\n",
      "    10312    0.003    0.000    0.003    0.000 function_base.py:5364(_insert_dispatcher)\n",
      "     2050    0.003    0.000    0.006    0.000 partial_eval.py:106(__new__)\n",
      "     4469    0.003    0.000    0.003    0.000 linear_util.py:155(__init__)\n",
      "     3321    0.003    0.000    0.006    0.000 partial_eval.py:700(parents)\n",
      "     1107    0.003    0.000    0.012    0.000 partial_eval.py:935(newvar)\n",
      "     1394    0.003    0.000    0.010    0.000 api_util.py:657(<genexpr>)\n",
      "    10312    0.003    0.000    0.003    0.000 numeric.py:1389(_moveaxis_dispatcher)\n",
      "    10313    0.003    0.000    0.003    0.000 function_base.py:1320(_diff_dispatcher)\n",
      "      246    0.003    0.000    0.301    0.001 array_methods.py:735(op)\n",
      "    10312    0.003    0.000    0.003    0.000 array_methods.py:138(<genexpr>)\n",
      "      175    0.003    0.000    0.003    0.000 socket.py:545(send)\n",
      "       41    0.003    0.000    0.939    0.023 linear_util.py:178(call_wrapped)\n",
      "     3444    0.003    0.000    0.007    0.000 util.py:451(__hash__)\n",
      "      574    0.003    0.000    0.008    0.000 source_info_util.py:219(current)\n",
      "      574    0.003    0.000    0.004    0.000 util.py:158(subs_list2)\n",
      "     2296    0.003    0.000    0.004    0.000 tree_util.py:908(_generate_key_paths_)\n",
      "     1107    0.002    0.000    0.003    0.000 ad.py:214(read_primal)\n",
      "     5289    0.002    0.000    0.003    0.000 sharding_impls.py:936(is_unspecified)\n",
      "      574    0.002    0.000    0.007    0.000 partial_eval.py:879(new_eqn_recipe)\n",
      "      574    0.002    0.000    0.004    0.000 api_util.py:689(hoist_obj_attrs)\n",
      "      344    0.002    0.000    0.108    0.000 slicing.py:113(dynamic_slice)\n",
      "      492    0.002    0.000    0.026    0.000 partial_eval.py:166(new_instantiated_const)\n",
      "      861    0.002    0.000    0.008    0.000 partial_eval.py:156(new_const)\n",
      "      943    0.002    0.000    0.021    0.000 core.py:1771(primal_dtype_to_tangent_dtype)\n",
      "      697    0.002    0.000    0.003    0.000 util.py:93(unzip2)\n",
      "     1230    0.002    0.000    0.006    0.000 tree_util.py:900(generate_key_paths)\n",
      "    10312    0.002    0.000    0.002    0.000 fromnumeric.py:3214(_size_dispatcher)\n",
      "      861    0.002    0.000    0.028    0.000 core.py:1677(at_least_vspace)\n",
      "        1    0.002    0.002    0.320    0.320 setops.py:315(unique)\n",
      "     3403    0.002    0.000    0.005    0.000 partial_eval.py:696(aval)\n",
      "      574    0.002    0.000    0.035    0.000 api_util.py:615(debug_info)\n",
      "     1148    0.002    0.000    0.003    0.000 weakref.py:507(setdefault)\n",
      "     2952    0.002    0.000    0.003    0.000 linear_util.py:102(val)\n",
      "     1640    0.002    0.000    0.050    0.000 pjit.py:1924(<genexpr>)\n",
      "     3444    0.002    0.000    0.003    0.000 partial_eval.py:132(get_aval)\n",
      "     2501    0.002    0.000    0.043    0.000 tree_util.py:99(tree_unflatten)\n",
      "     1189    0.002    0.000    0.003    0.000 linear_util.py:262(wrap_init)\n",
      "      738    0.002    0.000    0.040    0.000 api_util.py:563(_shaped_abstractify_slow)\n",
      "     2870    0.002    0.000    0.002    0.000 core.py:251(<listcomp>)\n",
      "      574    0.002    0.000    0.007    0.000 pjit.py:182(_get_fastpath_data)\n",
      "     1148    0.002    0.000    0.003    0.000 source_info_util.py:239(user_context)\n",
      "      615    0.002    0.000    0.024    0.000 ad.py:211(read_cotangent)\n",
      "     1230    0.002    0.000    0.003    0.000 source_info_util.py:149(replace)\n",
      "     6314    0.002    0.000    0.002    0.000 core.py:236(<lambda>)\n",
      "       43    0.002    0.000    0.004    0.000 std.py:352(format_meter)\n",
      "     3034    0.002    0.000    0.003    0.000 pjit.py:383(<genexpr>)\n",
      "      124    0.002    0.000    0.043    0.000 array.py:309(__getitem__)\n",
      "        4    0.002    0.000    0.095    0.024 lax_numpy.py:1891(<listcomp>)\n",
      "       41    0.002    0.000    0.005    0.000 util.py:242(check_toposort)\n",
      "     3403    0.002    0.000    0.002    0.000 pjit.py:1913(<genexpr>)\n",
      "     2296    0.002    0.000    0.003    0.000 pjit.py:1739(_filter_zeros)\n",
      "     2296    0.002    0.000    0.002    0.000 core.py:2619(__init__)\n",
      "      574    0.002    0.000    0.005    0.000 pjit.py:1847(<listcomp>)\n",
      "     1148    0.001    0.000    0.005    0.000 partial_eval.py:121(unknown)\n",
      "     1148    0.001    0.000    0.003    0.000 sharding_impls.py:939(is_unspecified_or_auto)\n",
      "      574    0.001    0.000    0.002    0.000 api_util.py:272(argnums_partial_except)\n",
      "       41    0.001    0.000    1.759    0.043 api.py:730(value_and_grad_f)\n",
      "     1148    0.001    0.000    0.005    0.000 pjit.py:813(_create_sharding_for_array)\n",
      "       82    0.001    0.000    0.148    0.002 3604036365.py:1(generate_windows)\n",
      "     4715    0.001    0.000    0.001    0.000 partial_eval.py:125(is_known)\n",
      "     3034    0.001    0.000    0.002    0.000 pjit.py:1402(<genexpr>)\n",
      "     4715    0.001    0.000    0.001    0.000 pjit.py:1740(<genexpr>)\n",
      "     5002    0.001    0.000    0.001    0.000 partial_eval.py:128(get_known)\n",
      "     5207    0.001    0.000    0.001    0.000 core.py:101(outvars)\n",
      "       82    0.001    0.000    0.093    0.001 reductions.py:319(mean)\n",
      "     1107    0.001    0.000    0.007    0.000 core.py:344(__init__)\n",
      "      615    0.001    0.000    0.002    0.000 partial_eval.py:143(__init__)\n",
      "     2255    0.001    0.000    0.001    0.000 {method 'setdefault' of 'dict' objects}\n",
      "      820    0.001    0.000    0.002    0.000 tree_util.py:724(keystr)\n",
      "      902    0.001    0.000    0.004    0.000 partial_eval.py:117(known)\n",
      "      574    0.001    0.000    0.003    0.000 partial_eval.py:896(<listcomp>)\n",
      "      574    0.001    0.000    0.002    0.000 pjit.py:1845(<listcomp>)\n",
      "      820    0.001    0.000    0.002    0.000 ad.py:463(__init__)\n",
      "      574    0.001    0.000    0.002    0.000 pjit.py:1819(<listcomp>)\n",
      "        1    0.001    0.001  355.964  355.964 <string>:1(<module>)\n",
      "     3444    0.001    0.000    0.001    0.000 util.py:442(__init__)\n",
      "     2009    0.001    0.000    0.002    0.000 pjit.py:1776(<genexpr>)\n",
      "      127    0.001    0.000    0.006    0.000 iostream.py:626(write)\n",
      "     2747    0.001    0.000    0.002    0.000 pjit.py:384(<genexpr>)\n",
      "      984    0.001    0.000    0.002    0.000 ad_util.py:71(<lambda>)\n",
      "      574    0.001    0.000    0.004    0.000 pxla.py:2823(reflatten_outputs_for_dispatch)\n",
      "      574    0.001    0.000    0.002    0.000 pjit.py:221(_read_most_recent_pjit_call_executable)\n",
      "     1476    0.001    0.000    0.004    0.000 linear_util.py:237(transformation)\n",
      "       41    0.001    0.000    0.015    0.000 slicing.py:1162(_slice_impl)\n",
      "     2952    0.001    0.000    0.001    0.000 linear_util.py:108(__nonzero__)\n",
      "      697    0.001    0.000    0.001    0.000 api_util.py:257(_ensure_inbounds)\n",
      "      574    0.001    0.000    0.001    0.000 partial_eval.py:1486(<listcomp>)\n",
      "      574    0.001    0.000    0.016    0.000 partial_eval.py:1653(move_binders_to_back)\n",
      "      574    0.001    0.000    0.002    0.000 ad.py:321(<listcomp>)\n",
      "      574    0.001    0.000    0.002    0.000 source_info_util.py:125(__add__)\n",
      "     1312    0.001    0.000    0.001    0.000 core.py:999(__eq__)\n",
      "      902    0.001    0.000    0.012    0.000 dispatch.py:279(check_arg)\n",
      "      205    0.001    0.000    0.013    0.000 ad.py:302(pure)\n",
      "      206    0.001    0.000    0.008    0.000 lax_numpy.py:4469(_is_valid_integer_index_for_slice)\n",
      "      574    0.001    0.000    0.002    0.000 core.py:327(new_jaxpr_eqn)\n",
      "      175    0.001    0.000    0.005    0.000 iostream.py:259(schedule)\n",
      "     2296    0.001    0.000    0.001    0.000 core.py:2723(<genexpr>)\n",
      "       41    0.001    0.000    0.050    0.001 std.py:1195(update)\n",
      "      984    0.001    0.000    0.040    0.000 ad.py:470(aval)\n",
      "      369    0.001    0.000    0.001    0.000 core.py:306(replace)\n",
      "      293    0.001    0.000    0.001    0.000 {method 'format' of 'str' objects}\n",
      "      574    0.001    0.000    0.001    0.000 util.py:164(<listcomp>)\n",
      "     2747    0.001    0.000    0.001    0.000 pjit.py:1403(<genexpr>)\n",
      "      574    0.001    0.000    0.014    0.000 inspect.py:3207(bind)\n",
      "      574    0.001    0.000    0.001    0.000 weakref.py:451(get)\n",
      "     1148    0.001    0.000    0.001    0.000 pjit.py:1405(<listcomp>)\n",
      "     1189    0.001    0.000    0.001    0.000 partial_eval.py:932(get_atom)\n",
      "     1230    0.001    0.000    0.002    0.000 linear_util.py:253(<lambda>)\n",
      "     1804    0.001    0.000    0.001    0.000 linear_util.py:93(store)\n",
      "     1998    0.001    0.000    0.001    0.000 utils.py:306(<genexpr>)\n",
      "       82    0.001    0.000    0.045    0.001 partial_eval.py:792(_trace_to_subjaxpr_nounits)\n",
      "      574    0.001    0.000    0.001    0.000 <string>:2(__init__)\n",
      "       41    0.001    0.000    0.947    0.023 ad.py:120(linearize)\n",
      "      739    0.001    0.000    0.001    0.000 lax_numpy.py:4500(<genexpr>)\n",
      "     1804    0.001    0.000    0.001    0.000 ad_util.py:63(__init__)\n",
      "     1230    0.001    0.000    0.001    0.000 core.py:1330(_get_trace_level)\n",
      "       41    0.001    0.000    0.046    0.001 combine.py:52(update_fn)\n",
      "      615    0.001    0.000    0.001    0.000 util.py:144(<listcomp>)\n",
      "     1804    0.001    0.000    0.001    0.000 linear_util.py:90(__init__)\n",
      "      574    0.001    0.000    0.001    0.000 pjit.py:1801(<dictcomp>)\n",
      "     2214    0.001    0.000    0.001    0.000 util.py:245(<genexpr>)\n",
      "       41    0.001    0.000    0.953    0.023 api.py:2232(_vjp)\n",
      "      574    0.001    0.000    0.001    0.000 api_util.py:651(<listcomp>)\n",
      "      861    0.001    0.000    0.009    0.000 partial_eval.py:147(pure)\n",
      "      574    0.001    0.000    0.001    0.000 pjit.py:1735(<listcomp>)\n",
      "      574    0.001    0.000    0.001    0.000 core.py:261(effects)\n",
      "       45    0.001    0.000    0.001    0.000 threading.py:236(__init__)\n",
      "      574    0.001    0.000    0.001    0.000 pjit.py:1794(<listcomp>)\n",
      "      574    0.001    0.000    0.004    0.000 partial_eval.py:958(<listcomp>)\n",
      "       41    0.001    0.000    0.780    0.019 api.py:2122(_vjp_pullback_wrapper)\n",
      "      452    0.001    0.000    0.001    0.000 lax_numpy.py:4461(_is_integer_index)\n",
      "       41    0.001    0.000    1.888    0.046 3313065722.py:31(update)\n",
      "      574    0.001    0.000    0.004    0.000 pjit.py:461(<lambda>)\n",
      "      240    0.001    0.000    0.001    0.000 std.py:230(__call__)\n",
      "     2952    0.001    0.000    0.001    0.000 inspect.py:2751(kind)\n",
      "     1394    0.001    0.000    0.001    0.000 ad.py:314(<genexpr>)\n",
      "     1148    0.001    0.000    0.001    0.000 sharding_impls.py:927(is_auto)\n",
      "       45    0.001    0.000    0.041    0.001 iostream.py:563(flush)\n",
      "       41    0.001    0.000    0.941    0.023 partial_eval.py:766(trace_to_jaxpr_nounits)\n",
      "      329    0.001    0.000    0.001    0.000 lax_numpy.py:4516(<genexpr>)\n",
      "      615    0.001    0.000    0.001    0.000 source_info_util.py:265(current_name_stack)\n",
      "       41    0.001    0.000    0.070    0.002 update.py:43(<lambda>)\n",
      "      164    0.001    0.000    0.001    0.000 core.py:1178(new_main)\n",
      "       42    0.001    0.000    0.078    0.002 std.py:1157(__iter__)\n",
      "     2626    0.001    0.000    0.001    0.000 {method 'pop' of 'list' objects}\n",
      "      246    0.001    0.000    0.001    0.000 lax.py:3008(_broadcast_in_dim_fwd_rule)\n",
      "      574    0.001    0.000    0.001    0.000 pjit.py:1757(<listcomp>)\n",
      "      574    0.001    0.000    0.001    0.000 api_util.py:310(argnames_partial_except)\n",
      "     1968    0.001    0.000    0.001    0.000 {method 'pop' of 'dict' objects}\n",
      "      123    0.001    0.000    0.004    0.000 ad.py:74(jvpfun)\n",
      "      220    0.001    0.000    0.001    0.000 threading.py:1185(is_alive)\n",
      "      123    0.001    0.000    0.002    0.000 lax.py:2423(_convert_elt_type_fwd_rule)\n",
      "      574    0.001    0.000    0.001    0.000 partial_eval.py:1485(<dictcomp>)\n",
      "     1107    0.001    0.000    0.001    0.000 partial_eval.py:942(type_substitute)\n",
      "       82    0.000    0.000    0.097    0.001 array_methods.py:740(meth)\n",
      "       41    0.000    0.000    0.010    0.000 {built-in method builtins.print}\n",
      "      615    0.000    0.000    0.001    0.000 linear_util.py:163(__name__)\n",
      "       45    0.000    0.000    0.038    0.001 threading.py:604(wait)\n",
      "      615    0.000    0.000    0.001    0.000 partial_eval.py:710(full_lower)\n",
      "      574    0.000    0.000    0.000    0.000 {method 'values' of 'mappingproxy' objects}\n",
      "       82    0.000    0.000    0.002    0.000 core.py:784(__getattr__)\n",
      "      123    0.000    0.000    0.001    0.000 ad.py:89(jvp_subtrace)\n",
      "     2009    0.000    0.000    0.000    0.000 pjit.py:1777(<genexpr>)\n",
      "       41    0.000    0.000    0.045    0.001 transform.py:543(update_fn)\n",
      "     2542    0.000    0.000    0.000    0.000 inspect.py:2739(name)\n",
      "      574    0.000    0.000    0.001    0.000 pjit.py:1802(<listcomp>)\n",
      "       82    0.000    0.000    0.001    0.000 tree_util.py:552(__new__)\n",
      "       41    0.000    0.000    0.013    0.000 lax.py:1370(full_like)\n",
      "     1845    0.000    0.000    0.000    0.000 core.py:97(invars)\n",
      "      369    0.000    0.000    0.000    0.000 partial_eval.py:1479(<listcomp>)\n",
      "      124    0.000    0.000    0.039    0.000 lax_numpy.py:4566(_rewriting_take)\n",
      "      206    0.000    0.000    0.001    0.000 lax_numpy.py:4483(_is_contiguous_slice)\n",
      "      574    0.000    0.000    0.000    0.000 pjit.py:1805(<listcomp>)\n",
      "      574    0.000    0.000    0.000    0.000 pjit.py:1774(<listcomp>)\n",
      "     1148    0.000    0.000    0.000    0.000 pjit.py:236(_get_cpp_global_cache)\n",
      "       41    0.000    0.000    0.001    0.000 api_util.py:238(argnums_partial)\n",
      "       41    0.000    0.000    0.948    0.023 ad.py:141(vjp)\n",
      "       41    0.000    0.000    0.001    0.000 arrayprint.py:1595(_array_str_implementation)\n",
      "      205    0.000    0.000    0.000    0.000 _internal.py:920(npy_ctypes_check)\n",
      "      164    0.000    0.000    0.001    0.000 source_info_util.py:294(transform_name_stack)\n",
      "     1807    0.000    0.000    0.000    0.000 {method 'add' of 'set' objects}\n",
      "      328    0.000    0.000    0.013    0.000 core.py:1452(valid_jaxtype)\n",
      "       41    0.000    0.000    0.005    0.000 array.py:259(__str__)\n",
      "     1722    0.000    0.000    0.000    0.000 pjit.py:1781(<genexpr>)\n",
      "       45    0.000    0.000    0.037    0.001 threading.py:288(wait)\n",
      "       43    0.000    0.000    0.001    0.000 std.py:1443(format_dict)\n",
      "      574    0.000    0.000    0.000    0.000 ad.py:475(full_lower)\n",
      "    82/41    0.000    0.000    0.780    0.019 tree_util.py:487(__call__)\n",
      "      574    0.000    0.000    0.000    0.000 pjit.py:1161(__hash__)\n",
      "     2460    0.000    0.000    0.000    0.000 core.py:738(_assert_live)\n",
      "     1148    0.000    0.000    0.000    0.000 ad.py:274(__init__)\n",
      "      574    0.000    0.000    0.002    0.000 pjit.py:465(<lambda>)\n",
      "       82    0.000    0.000    0.000    0.000 utils.py:204(_is_ascii)\n",
      "       41    0.000    0.000    0.001    0.000 arrayprint.py:506(wrapper)\n",
      "      574    0.000    0.000    0.000    0.000 core.py:109(effects)\n",
      "       82    0.000    0.000    0.001    0.000 source_info_util.py:116(transform)\n",
      "      574    0.000    0.000    0.000    0.000 inspect.py:2831(__init__)\n",
      "      123    0.000    0.000    0.045    0.000 partial_eval.py:780(trace_to_subjaxpr_nounits)\n",
      "     1955    0.000    0.000    0.000    0.000 {built-in method unicodedata.east_asian_width}\n",
      "       41    0.000    0.000    0.062    0.002 lax.py:1539(_add_arrays)\n",
      "      533    0.000    0.000    0.000    0.000 ad.py:224(write_primal)\n",
      "      574    0.000    0.000    0.001    0.000 pjit.py:1163(__eq__)\n",
      "      123    0.000    0.000    0.000    0.000 api_util.py:297(_argnums_partial)\n",
      "      124    0.000    0.000    0.009    0.000 lax_numpy.py:4506(<setcomp>)\n",
      "       90    0.000    0.000    0.000    0.000 {built-in method _thread.allocate_lock}\n",
      "       43    0.000    0.000    0.005    0.000 std.py:1147(__str__)\n",
      "       42    0.000    0.000    0.049    0.001 std.py:1322(refresh)\n",
      "       82    0.000    0.000    0.000    0.000 {built-in method numpy.zeros}\n",
      "       41    0.000    0.000    0.043    0.001 transform.py:545(<lambda>)\n",
      "       82    0.000    0.000    0.001    0.000 util.py:342(__hash__)\n",
      "      124    0.000    0.000    0.001    0.000 lax_numpy.py:4505(<setcomp>)\n",
      "       43    0.000    0.000    0.049    0.001 std.py:1461(display)\n",
      "       88    0.000    0.000    0.042    0.000 utils.py:125(inner)\n",
      "       41    0.000    0.000    0.005    0.000 api.py:773(_check_input_dtype_revderiv)\n",
      "      124    0.000    0.000    0.001    0.000 lax_numpy.py:4508(<setcomp>)\n",
      "       41    0.000    0.000    0.001    0.000 partial_eval.py:175(new_arg)\n",
      "      615    0.000    0.000    0.000    0.000 ad.py:283(<lambda>)\n",
      "       41    0.000    0.000    0.017    0.000 slicing.py:57(slice)\n",
      "       46    0.000    0.000    0.000    0.000 std.py:101(acquire)\n",
      "       46    0.000    0.000    0.000    0.000 std.py:105(release)\n",
      "      284    0.000    0.000    0.001    0.000 core.py:1584(__ne__)\n",
      "       85    0.000    0.000    0.001    0.000 std.py:285(format_interval)\n",
      "        1    0.000    0.000  355.964  355.964 {built-in method builtins.exec}\n",
      "      246    0.000    0.000    0.000    0.000 {method 'indices' of 'slice' objects}\n",
      "      574    0.000    0.000    0.000    0.000 core.py:113(debug_info)\n",
      "       43    0.000    0.000    0.044    0.001 std.py:345(print_status)\n",
      "      127    0.000    0.000    0.004    0.000 iostream.py:548(_schedule_flush)\n",
      "      246    0.000    0.000    0.045    0.000 {method 'send' of 'generator' objects}\n",
      "       41    0.000    0.000    0.000    0.000 std.py:185(__format__)\n",
      "       41    0.000    0.000    0.067    0.002 ad_util.py:32(add_jaxvals)\n",
      "       41    0.000    0.000    0.072    0.002 update.py:24(apply_updates)\n",
      "      820    0.000    0.000    0.000    0.000 {method 'join' of 'str' objects}\n",
      "      220    0.000    0.000    0.000    0.000 threading.py:1118(_wait_for_tstate_lock)\n",
      "      574    0.000    0.000    0.000    0.000 inspect.py:3032(parameters)\n",
      "       43    0.000    0.000    0.042    0.001 std.py:339(fp_write)\n",
      "      574    0.000    0.000    0.000    0.000 api_util.py:652(<dictcomp>)\n",
      "      206    0.000    0.000    0.000    0.000 lax_numpy.py:4464(_is_simple_reverse_slice)\n",
      "      127    0.000    0.000    0.000    0.000 iostream.py:521(_is_master_process)\n",
      "       82    0.000    0.000    0.003    0.000 ad.py:128(<genexpr>)\n",
      "       42    0.000    0.000    0.026    0.001 1336715503.py:1(generate_batches)\n",
      "      820    0.000    0.000    0.000    0.000 tree_util.py:733(<listcomp>)\n",
      "      114    0.000    0.000    0.000    0.000 __init__.py:98(_xla_gc_callback)\n",
      "       41    0.000    0.000    0.000    0.000 arrayprint.py:1588(_guarded_repr_or_str)\n",
      "       41    0.000    0.000    0.000    0.000 api_util.py:252(<listcomp>)\n",
      "       82    0.000    0.000    0.045    0.001 base.py:335(update)\n",
      "      615    0.000    0.000    0.000    0.000 core.py:105(eqns)\n",
      "       41    0.000    0.000    0.002    0.000 ad.py:76(<listcomp>)\n",
      "      114    0.000    0.000    0.000    0.000 {built-in method jaxlib.xla_extension.collect_garbage}\n",
      "      656    0.000    0.000    0.000    0.000 ad.py:199(<genexpr>)\n",
      "      175    0.000    0.000    0.000    0.000 iostream.py:137(_event_pipe)\n",
      "       82    0.000    0.000    0.000    0.000 ad.py:127(<genexpr>)\n",
      "       41    0.000    0.000    0.000    0.000 util.py:248(_remove_duplicates)\n",
      "       41    0.000    0.000    0.002    0.000 api.py:2247(<listcomp>)\n",
      "      330    0.000    0.000    0.000    0.000 lax_numpy.py:4493(<genexpr>)\n",
      "       41    0.000    0.000    0.062    0.002 ad_util.py:39(add_impl)\n",
      "       41    0.000    0.000    0.002    0.000 api.py:793(_check_output_dtype_revderiv)\n",
      "      246    0.000    0.000    0.000    0.000 api_util.py:146(__eq__)\n",
      "      246    0.000    0.000    0.000    0.000 api_util.py:395(is_hashable)\n",
      "       41    0.000    0.000    0.000    0.000 partial_eval.py:1723(make_jaxpr_effects)\n",
      "       81    0.000    0.000    0.000    0.000 core.py:2074(dimension_as_value)\n",
      "      574    0.000    0.000    0.000    0.000 pjit.py:463(<lambda>)\n",
      "       41    0.000    0.000    0.067    0.002 ad.py:552(add_tangents)\n",
      "       45    0.000    0.000    0.001    0.000 threading.py:555(__init__)\n",
      "       43    0.000    0.000    0.002    0.000 utils.py:309(disp_len)\n",
      "      246    0.000    0.000    0.000    0.000 api_util.py:143(__hash__)\n",
      "      574    0.000    0.000    0.000    0.000 pjit.py:561(_flat_axes_specs)\n",
      "      533    0.000    0.000    0.000    0.000 ad.py:279(is_undefined_primal)\n",
      "       41    0.000    0.000    0.003    0.000 lax_numpy.py:2204(astype)\n",
      "      574    0.000    0.000    0.000    0.000 pjit.py:467(<lambda>)\n",
      "      328    0.000    0.000    0.000    0.000 pxla.py:2858(unsafe_call)\n",
      "       41    0.000    0.000    0.000    0.000 std.py:152(__init__)\n",
      "      164    0.000    0.000    0.000    0.000 pjit.py:194(<genexpr>)\n",
      "       41    0.000    0.000    0.000    0.000 api.py:2248(<listcomp>)\n",
      "       43    0.000    0.000    0.002    0.000 utils.py:305(_text_width)\n",
      "      246    0.000    0.000    0.000    0.000 api_util.py:278(<genexpr>)\n",
      "      123    0.000    0.000    0.002    0.000 partial_eval.py:801(<genexpr>)\n",
      "       41    0.000    0.000    0.003    0.000 array_methods.py:58(_astype)\n",
      "       40    0.000    0.000    0.000    0.000 {built-in method now}\n",
      "      861    0.000    0.000    0.000    0.000 {built-in method builtins.ord}\n",
      "       43    0.000    0.000    0.000    0.000 {method 'sub' of 're.Pattern' objects}\n",
      "       41    0.000    0.000    0.001    0.000 partial_eval.py:796(<listcomp>)\n",
      "       41    0.000    0.000    0.001    0.000 api.py:760(_check_scalar)\n",
      "       41    0.000    0.000    0.000    0.000 ad.py:98(<listcomp>)\n",
      "       41    0.000    0.000    0.000    0.000 ad.py:149(<listcomp>)\n",
      "      123    0.000    0.000    0.001    0.000 api_util.py:72(flatten_fun)\n",
      "       41    0.000    0.000    0.000    0.000 ad.py:65(jvp)\n",
      "       46    0.000    0.000    0.000    0.000 {method 'acquire' of '_multiprocessing.SemLock' objects}\n",
      "      123    0.000    0.000    0.000    0.000 api_util.py:86(flatten_fun_nokwargs)\n",
      "       41    0.000    0.000    0.000    0.000 {built-in method jaxlib.xla_extension.pytree.flatten_up_to}\n",
      "       41    0.000    0.000    0.000    0.000 api_util.py:304(<listcomp>)\n",
      "       82    0.000    0.000    0.000    0.000 ad.py:590(instantiate_zeros)\n",
      "       82    0.000    0.000    0.000    0.000 core.py:667(<lambda>)\n",
      "       45    0.000    0.000    0.000    0.000 threading.py:276(_acquire_restore)\n",
      "      127    0.000    0.000    0.000    0.000 {built-in method nt.getpid}\n",
      "       45    0.000    0.000    0.000    0.000 threading.py:1446(current_thread)\n",
      "      330    0.000    0.000    0.000    0.000 lax_numpy.py:4497(<genexpr>)\n",
      "       41    0.000    0.000    0.000    0.000 core.py:117(__init__)\n",
      "      246    0.000    0.000    0.000    0.000 api_util.py:140(__init__)\n",
      "       82    0.000    0.000    0.000    0.000 api_util.py:314(<dictcomp>)\n",
      "      127    0.000    0.000    0.000    0.000 {method 'write' of '_io.StringIO' objects}\n",
      "       82    0.000    0.000    0.000    0.000 core.py:976(pop)\n",
      "       41    0.000    0.000    0.000    0.000 partial_eval.py:795(<listcomp>)\n",
      "       41    0.000    0.000    0.000    0.000 partial_eval.py:794(<listcomp>)\n",
      "      246    0.000    0.000    0.000    0.000 api_util.py:279(<genexpr>)\n",
      "       41    0.000    0.000    0.000    0.000 ad.py:85(<listcomp>)\n",
      "       82    0.000    0.000    0.000    0.000 core.py:973(push)\n",
      "      221    0.000    0.000    0.000    0.000 threading.py:568(is_set)\n",
      "       82    0.000    0.000    0.000    0.000 ad.py:148(<genexpr>)\n",
      "       41    0.000    0.000    0.000    0.000 partial_eval.py:808(<listcomp>)\n",
      "      123    0.000    0.000    0.000    0.000 partial_eval.py:785(<genexpr>)\n",
      "      166    0.000    0.000    0.000    0.000 {built-in method time.time}\n",
      "      211    0.000    0.000    0.000    0.000 {built-in method builtins.divmod}\n",
      "       46    0.000    0.000    0.000    0.000 {method 'release' of '_multiprocessing.SemLock' objects}\n",
      "       90    0.000    0.000    0.000    0.000 threading.py:1161(ident)\n",
      "       82    0.000    0.000    0.000    0.000 lax_numpy.py:4549(<genexpr>)\n",
      "       82    0.000    0.000    0.000    0.000 core.py:970(next_level)\n",
      "       82    0.000    0.000    0.000    0.000 partial_eval.py:717(is_known)\n",
      "       45    0.000    0.000    0.000    0.000 threading.py:267(__exit__)\n",
      "      164    0.000    0.000    0.000    0.000 inspect.py:2743(default)\n",
      "        1    0.000    0.000    0.000    0.000 __init__.py:48(create_string_buffer)\n",
      "       41    0.000    0.000    0.000    0.000 util.py:227(<listcomp>)\n",
      "       86    0.000    0.000    0.000    0.000 {built-in method _thread.get_ident}\n",
      "       43    0.000    0.000    0.000    0.000 {method 'update' of 'dict' objects}\n",
      "      220    0.000    0.000    0.000    0.000 {method 'append' of 'collections.deque' objects}\n",
      "       82    0.000    0.000    0.000    0.000 ad.py:134(<genexpr>)\n",
      "       82    0.000    0.000    0.000    0.000 core.py:940(__init__)\n",
      "       41    0.000    0.000    0.000    0.000 utils.py:39(__init__)\n",
      "        1    0.000    0.000    0.002    0.002 std.py:837(__init__)\n",
      "       45    0.000    0.000    0.000    0.000 threading.py:264(__enter__)\n",
      "       82    0.000    0.000    0.000    0.000 util.py:345(__eq__)\n",
      "        1    0.000    0.000    0.000    0.000 lax_numpy.py:917(moveaxis)\n",
      "      127    0.000    0.000    0.000    0.000 {method '__exit__' of '_thread.RLock' objects}\n",
      "       41    0.000    0.000    0.000    0.000 lax_numpy.py:4550(<listcomp>)\n",
      "       82    0.000    0.000    0.000    0.000 ad.py:187(<genexpr>)\n",
      "       82    0.000    0.000    0.000    0.000 tree_util.py:484(__init__)\n",
      "        1    0.000    0.000    0.000    0.000 utils.py:228(_screen_shape_windows)\n",
      "       41    0.000    0.000    0.000    0.000 partial_eval.py:806(<listcomp>)\n",
      "      164    0.000    0.000    0.000    0.000 tree_util.py:372(<lambda>)\n",
      "       41    0.000    0.000    0.000    0.000 lax_numpy.py:4551(<listcomp>)\n",
      "       82    0.000    0.000    0.000    0.000 util.py:318(__init__)\n",
      "       82    0.000    0.000    0.000    0.000 util.py:339(__init__)\n",
      "       45    0.000    0.000    0.000    0.000 threading.py:279(_is_owned)\n",
      "       45    0.000    0.000    0.000    0.000 threading.py:273(_release_save)\n",
      "       82    0.000    0.000    0.000    0.000 partial_eval.py:964(<genexpr>)\n",
      "        1    0.000    0.000    0.002    0.002 lax_numpy.py:4596(_gather)\n",
      "       41    0.000    0.000    0.000    0.000 std.py:166(colour)\n",
      "       41    0.000    0.000    0.000    0.000 core.py:358(gensym)\n",
      "       41    0.000    0.000    0.000    0.000 ad.py:135(<listcomp>)\n",
      "       82    0.000    0.000    0.000    0.000 api_util.py:254(<genexpr>)\n",
      "       41    0.000    0.000    0.000    0.000 partial_eval.py:788(<listcomp>)\n",
      "       41    0.000    0.000    0.000    0.000 utils.py:43(__format__)\n",
      "       46    0.000    0.000    0.000    0.000 {method 'release' of '_thread.RLock' objects}\n",
      "       46    0.000    0.000    0.000    0.000 {method 'acquire' of '_thread.RLock' objects}\n",
      "       82    0.000    0.000    0.000    0.000 util.py:343(<genexpr>)\n",
      "       41    0.000    0.000    0.000    0.000 ad.py:102(<listcomp>)\n",
      "       45    0.000    0.000    0.000    0.000 {built-in method builtins.abs}\n",
      "        2    0.000    0.000    0.001    0.000 std.py:1262(close)\n",
      "        1    0.000    0.000    0.000    0.000 transform.py:934(scale_by_learning_rate)\n",
      "       41    0.000    0.000    0.000    0.000 {method 'discard' of 'set' objects}\n",
      "       45    0.000    0.000    0.000    0.000 {method '__exit__' of '_thread.lock' objects}\n",
      "       45    0.000    0.000    0.000    0.000 {method '__enter__' of '_thread.lock' objects}\n",
      "        1    0.000    0.000    0.000    0.000 alias.py:1302(sgd)\n",
      "       41    0.000    0.000    0.000    0.000 core.py:93(constvars)\n",
      "       41    0.000    0.000    0.000    0.000 std.py:162(colour)\n",
      "        1    0.000    0.000    0.000    0.000 slicing.py:286(gather)\n",
      "        1    0.000    0.000    0.000    0.000 std.py:567(_get_free_pos)\n",
      "       41    0.000    0.000    0.000    0.000 base.py:231(update_fn)\n",
      "        1    0.000    0.000    0.000    0.000 std.py:551(__new__)\n",
      "        1    0.000    0.000    0.000    0.000 std.py:574(_decr_instances)\n",
      "        1    0.000    0.000    0.001    0.001 std.py:326(status_printer)\n",
      "        1    0.000    0.000    0.000    0.000 api.py:680(value_and_grad)\n",
      "        1    0.000    0.000    0.000    0.000 functools.py:35(update_wrapper)\n",
      "       45    0.000    0.000    0.000    0.000 {method 'release' of '_thread.lock' objects}\n",
      "        1    0.000    0.000    0.000    0.000 combine.py:25(chain)\n",
      "        3    0.000    0.000    0.000    0.000 {built-in method utcfromtimestamp}\n",
      "        3    0.000    0.000    0.000    0.000 _weakrefset.py:63(__iter__)\n",
      "        2    0.000    0.000    0.000    0.000 std.py:1283(fp_write)\n",
      "        1    0.000    0.000    0.000    0.000 base.py:215(identity)\n",
      "        1    0.000    0.000    0.000    0.000 utils.py:144(__init__)\n",
      "        2    0.000    0.000    0.000    0.000 _weakrefset.py:53(_commit_removals)\n",
      "        2    0.000    0.000    0.000    0.000 base.py:327(with_extra_args_support)\n",
      "        1    0.000    0.000    0.000    0.000 util.py:388(wrapper)\n",
      "        1    0.000    0.000    0.000    0.000 traceback_util.py:152(api_boundary)\n",
      "        1    0.000    0.000    0.000    0.000 inspect.py:391(_has_code_flag)\n",
      "        2    0.000    0.000    0.000    0.000 _weakrefset.py:27(__exit__)\n",
      "        1    0.000    0.000    0.000    0.000 _weakrefset.py:85(add)\n",
      "        1    0.000    0.000    0.000    0.000 combine.py:49(init_fn)\n",
      "        1    0.000    0.000    0.000    0.000 combine.py:46(<listcomp>)\n",
      "        1    0.000    0.000    0.000    0.000 utils.py:197(_supports_unicode)\n",
      "        4    0.000    0.000    0.000    0.000 std.py:112(__exit__)\n",
      "        4    0.000    0.000    0.000    0.000 std.py:109(__enter__)\n",
      "        2    0.000    0.000    0.000    0.000 utils.py:118(disable_on_exception)\n",
      "        1    0.000    0.000    0.000    0.000 api_util.py:464(check_callable)\n",
      "        1    0.000    0.000    0.000    0.000 transform.py:527(scale)\n",
      "        3    0.000    0.000    0.000    0.000 utils.py:83(wrapper_setattr)\n",
      "        1    0.000    0.000    0.000    0.000 _weakrefset.py:110(remove)\n",
      "        3    0.000    0.000    0.000    0.000 {method 'remove' of 'set' objects}\n",
      "        1    0.000    0.000    0.000    0.000 utils.py:183(_is_utf)\n",
      "        4    0.000    0.000    0.000    0.000 utils.py:153(__eq__)\n",
      "        2    0.000    0.000    0.000    0.000 _weakrefset.py:21(__enter__)\n",
      "        2    0.000    0.000    0.000    0.000 array.py:262(__len__)\n",
      "        3    0.000    0.000    0.000    0.000 combine.py:50(<genexpr>)\n",
      "        1    0.000    0.000    0.000    0.000 base.py:228(init_fn)\n",
      "        1    0.000    0.000    0.000    0.000 core.py:2267(__hash__)\n",
      "        1    0.000    0.000    0.000    0.000 core.py:2281(as_named_shape)\n",
      "        1    0.000    0.000    0.000    0.000 api_util.py:44(_ensure_index)\n",
      "        1    0.000    0.000    0.000    0.000 {method 'disable' of '_lsprof.Profiler' objects}\n",
      "        2    0.000    0.000    0.000    0.000 std.py:1150(_comparable)\n",
      "        1    0.000    0.000    0.000    0.000 core.py:2260(__eq__)\n",
      "        1    0.000    0.000    0.000    0.000 core.py:2205(__init__)\n",
      "        1    0.000    0.000    0.000    0.000 std.py:570(<setcomp>)\n",
      "        1    0.000    0.000    0.000    0.000 _monitor.py:94(report)\n",
      "        1    0.000    0.000    0.000    0.000 {method 'encode' of 'str' objects}\n",
      "        1    0.000    0.000    0.000    0.000 api_util.py:65(_ensure_str_tuple)\n",
      "        2    0.000    0.000    0.000    0.000 std.py:1154(__hash__)\n",
      "        2    0.000    0.000    0.000    0.000 _weakrefset.py:17(__init__)\n",
      "        5    0.000    0.000    0.000    0.000 {built-in method builtins.setattr}\n",
      "        1    0.000    0.000    0.000    0.000 utils.py:56(__eq__)\n",
      "        1    0.000    0.000    0.000    0.000 utils.py:87(__init__)\n",
      "        1    0.000    0.000    0.000    0.000 functools.py:65(wraps)\n",
      "        3    0.000    0.000    0.000    0.000 std.py:225(__init__)\n",
      "        1    0.000    0.000    0.000    0.000 std.py:1144(__del__)\n",
      "        1    0.000    0.000    0.000    0.000 inspect.py:300(ismethod)\n",
      "        1    0.000    0.000    0.000    0.000 inspect.py:402(isgeneratorfunction)\n",
      "        1    0.000    0.000    0.000    0.000 util.py:378(wraps)\n",
      "        2    0.000    0.000    0.000    0.000 <string>:1(<lambda>)\n",
      "        1    0.000    0.000    0.000    0.000 std.py:648(get_lock)\n",
      "        1    0.000    0.000    0.000    0.000 transform.py:539(init_fn)\n",
      "        1    0.000    0.000    0.000    0.000 utils.py:70(__getattr__)\n",
      "        1    0.000    0.000    0.000    0.000 inspect.py:378(isfunction)\n",
      "        2    0.000    0.000    0.000    0.000 {built-in method _weakref.proxy}\n",
      "        1    0.000    0.000    0.000    0.000 utils.py:213(_screen_shape_wrapper)\n",
      "        1    0.000    0.000    0.000    0.000 functools.py:421(_unwrap_partial)\n",
      "        1    0.000    0.000    0.000    0.000 {method 'difference' of 'set' objects}\n",
      "        2    0.000    0.000    0.000    0.000 {built-in method builtins.callable}\n",
      "        1    0.000    0.000    0.000    0.000 {built-in method sys.audit}\n",
      "        1    0.000    0.000    0.000    0.000 std.py:1298(<lambda>)"
     ]
    }
   ],
   "source": [
    "%prun embedding, loss_history = deepWalk(graph=bc_dataset, walks_per_vertex=1, walk_length=2, window_size=2, embedding_size=128, num_neg=2, lr=0.011, epochs=1, batch_size=256, rng_key = rng_key)"
   ]
  },
  {
   "cell_type": "code",
   "execution_count": null,
   "id": "584b2bef",
   "metadata": {},
   "outputs": [
    {
     "ename": "NameError",
     "evalue": "name 'loss_history' is not defined",
     "output_type": "error",
     "traceback": [
      "\u001b[1;31m---------------------------------------------------------------------------\u001b[0m",
      "\u001b[1;31mNameError\u001b[0m                                 Traceback (most recent call last)",
      "Cell \u001b[1;32mIn[25], line 1\u001b[0m\n\u001b[1;32m----> 1\u001b[0m cumsum_vec \u001b[38;5;241m=\u001b[39m np\u001b[38;5;241m.\u001b[39mcumsum(np\u001b[38;5;241m.\u001b[39minsert(\u001b[43mloss_history\u001b[49m[\u001b[38;5;124m'\u001b[39m\u001b[38;5;124mtotal\u001b[39m\u001b[38;5;124m'\u001b[39m], \u001b[38;5;241m0\u001b[39m, \u001b[38;5;241m0\u001b[39m)) \n\u001b[0;32m      2\u001b[0m window_width \u001b[38;5;241m=\u001b[39m \u001b[38;5;241m10\u001b[39m\n\u001b[0;32m      3\u001b[0m ma_vec \u001b[38;5;241m=\u001b[39m (cumsum_vec[window_width:] \u001b[38;5;241m-\u001b[39m cumsum_vec[:\u001b[38;5;241m-\u001b[39mwindow_width]) \u001b[38;5;241m/\u001b[39m window_width\n",
      "\u001b[1;31mNameError\u001b[0m: name 'loss_history' is not defined"
     ]
    }
   ],
   "source": [
    "cumsum_vec = np.cumsum(np.insert(loss_history['total'], 0, 0)) \n",
    "window_width = 10\n",
    "ma_vec = (cumsum_vec[window_width:] - cumsum_vec[:-window_width]) / window_width\n",
    "plt.plot(ma_vec)"
   ]
  },
  {
   "cell_type": "code",
   "execution_count": null,
   "id": "c223f9a2",
   "metadata": {},
   "outputs": [],
   "source": [
    "embedding"
   ]
  },
  {
   "cell_type": "code",
   "execution_count": null,
   "id": "f92f12ef",
   "metadata": {},
   "outputs": [],
   "source": [
    "X_norm = (X-X.mean(axis=0)) / X.std(axis=0)"
   ]
  },
  {
   "cell_type": "code",
   "execution_count": null,
   "id": "b2255e93",
   "metadata": {},
   "outputs": [],
   "source": [
    "from sklearn.metrics import f1_score\n",
    "from sklearn.linear_model import LogisticRegression\n",
    "\n",
    "X = embedding.detach().numpy()\n",
    "y = bc_dataset['labels']\n",
    "\n",
    "clf = LogisticRegression(random_state=0, multi_class='ovr').fit(X_norm, y)\n",
    "y_hat = clf.predict(X_norm)\n",
    "f1_score(y, y_hat, average='micro')"
   ]
  },
  {
   "cell_type": "code",
   "execution_count": null,
   "id": "f0cffcc8",
   "metadata": {},
   "outputs": [],
   "source": [
    "from sklearn.decomposition import PCA\n",
    "pca = PCA(n_components=2)\n",
    "X_t = pca.fit_transform(X)\n"
   ]
  },
  {
   "cell_type": "code",
   "execution_count": null,
   "id": "c0c6ed44",
   "metadata": {},
   "outputs": [],
   "source": [
    "plt.scatter(X_t[:, 0], X_t[:, 1], c=y)"
   ]
  },
  {
   "cell_type": "code",
   "execution_count": null,
   "id": "6c47f4a7",
   "metadata": {},
   "outputs": [],
   "source": []
  },
  {
   "cell_type": "code",
   "execution_count": null,
   "id": "ad6d2de7",
   "metadata": {},
   "outputs": [],
   "source": []
  },
  {
   "cell_type": "code",
   "execution_count": null,
   "id": "e48aa350",
   "metadata": {},
   "outputs": [],
   "source": []
  },
  {
   "cell_type": "code",
   "execution_count": null,
   "id": "209f592f",
   "metadata": {},
   "outputs": [],
   "source": []
  },
  {
   "cell_type": "code",
   "execution_count": null,
   "id": "59d1ee1d",
   "metadata": {},
   "outputs": [],
   "source": []
  }
 ],
 "metadata": {
  "kernelspec": {
   "display_name": "jax_env",
   "language": "python",
   "name": "python3"
  },
  "language_info": {
   "codemirror_mode": {
    "name": "ipython",
    "version": 3
   },
   "file_extension": ".py",
   "mimetype": "text/x-python",
   "name": "python",
   "nbconvert_exporter": "python",
   "pygments_lexer": "ipython3",
   "version": "3.11.5"
  }
 },
 "nbformat": 4,
 "nbformat_minor": 5
}
